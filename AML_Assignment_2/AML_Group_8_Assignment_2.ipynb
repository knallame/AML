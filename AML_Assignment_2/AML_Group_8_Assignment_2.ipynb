{
  "nbformat": 4,
  "nbformat_minor": 0,
  "metadata": {
    "colab": {
      "provenance": [],
      "gpuType": "T4"
    },
    "kernelspec": {
      "name": "python3",
      "display_name": "Python 3"
    },
    "language_info": {
      "name": "python"
    },
    "accelerator": "GPU"
  },
  "cells": [
    {
      "cell_type": "code",
      "execution_count": null,
      "metadata": {
        "colab": {
          "base_uri": "https://localhost:8080/",
          "height": 125
        },
        "id": "Qg29UsCtHQFy",
        "outputId": "7c623193-1392-47fd-89c6-a40a08b6562f"
      },
      "outputs": [
        {
          "output_type": "display_data",
          "data": {
            "text/plain": [
              "<IPython.core.display.HTML object>"
            ],
            "text/html": [
              "\n",
              "     <input type=\"file\" id=\"files-a54777e1-dce9-4b03-839f-8d747a2c7729\" name=\"files[]\" multiple disabled\n",
              "        style=\"border:none\" />\n",
              "     <output id=\"result-a54777e1-dce9-4b03-839f-8d747a2c7729\">\n",
              "      Upload widget is only available when the cell has been executed in the\n",
              "      current browser session. Please rerun this cell to enable.\n",
              "      </output>\n",
              "      <script>// Copyright 2017 Google LLC\n",
              "//\n",
              "// Licensed under the Apache License, Version 2.0 (the \"License\");\n",
              "// you may not use this file except in compliance with the License.\n",
              "// You may obtain a copy of the License at\n",
              "//\n",
              "//      http://www.apache.org/licenses/LICENSE-2.0\n",
              "//\n",
              "// Unless required by applicable law or agreed to in writing, software\n",
              "// distributed under the License is distributed on an \"AS IS\" BASIS,\n",
              "// WITHOUT WARRANTIES OR CONDITIONS OF ANY KIND, either express or implied.\n",
              "// See the License for the specific language governing permissions and\n",
              "// limitations under the License.\n",
              "\n",
              "/**\n",
              " * @fileoverview Helpers for google.colab Python module.\n",
              " */\n",
              "(function(scope) {\n",
              "function span(text, styleAttributes = {}) {\n",
              "  const element = document.createElement('span');\n",
              "  element.textContent = text;\n",
              "  for (const key of Object.keys(styleAttributes)) {\n",
              "    element.style[key] = styleAttributes[key];\n",
              "  }\n",
              "  return element;\n",
              "}\n",
              "\n",
              "// Max number of bytes which will be uploaded at a time.\n",
              "const MAX_PAYLOAD_SIZE = 100 * 1024;\n",
              "\n",
              "function _uploadFiles(inputId, outputId) {\n",
              "  const steps = uploadFilesStep(inputId, outputId);\n",
              "  const outputElement = document.getElementById(outputId);\n",
              "  // Cache steps on the outputElement to make it available for the next call\n",
              "  // to uploadFilesContinue from Python.\n",
              "  outputElement.steps = steps;\n",
              "\n",
              "  return _uploadFilesContinue(outputId);\n",
              "}\n",
              "\n",
              "// This is roughly an async generator (not supported in the browser yet),\n",
              "// where there are multiple asynchronous steps and the Python side is going\n",
              "// to poll for completion of each step.\n",
              "// This uses a Promise to block the python side on completion of each step,\n",
              "// then passes the result of the previous step as the input to the next step.\n",
              "function _uploadFilesContinue(outputId) {\n",
              "  const outputElement = document.getElementById(outputId);\n",
              "  const steps = outputElement.steps;\n",
              "\n",
              "  const next = steps.next(outputElement.lastPromiseValue);\n",
              "  return Promise.resolve(next.value.promise).then((value) => {\n",
              "    // Cache the last promise value to make it available to the next\n",
              "    // step of the generator.\n",
              "    outputElement.lastPromiseValue = value;\n",
              "    return next.value.response;\n",
              "  });\n",
              "}\n",
              "\n",
              "/**\n",
              " * Generator function which is called between each async step of the upload\n",
              " * process.\n",
              " * @param {string} inputId Element ID of the input file picker element.\n",
              " * @param {string} outputId Element ID of the output display.\n",
              " * @return {!Iterable<!Object>} Iterable of next steps.\n",
              " */\n",
              "function* uploadFilesStep(inputId, outputId) {\n",
              "  const inputElement = document.getElementById(inputId);\n",
              "  inputElement.disabled = false;\n",
              "\n",
              "  const outputElement = document.getElementById(outputId);\n",
              "  outputElement.innerHTML = '';\n",
              "\n",
              "  const pickedPromise = new Promise((resolve) => {\n",
              "    inputElement.addEventListener('change', (e) => {\n",
              "      resolve(e.target.files);\n",
              "    });\n",
              "  });\n",
              "\n",
              "  const cancel = document.createElement('button');\n",
              "  inputElement.parentElement.appendChild(cancel);\n",
              "  cancel.textContent = 'Cancel upload';\n",
              "  const cancelPromise = new Promise((resolve) => {\n",
              "    cancel.onclick = () => {\n",
              "      resolve(null);\n",
              "    };\n",
              "  });\n",
              "\n",
              "  // Wait for the user to pick the files.\n",
              "  const files = yield {\n",
              "    promise: Promise.race([pickedPromise, cancelPromise]),\n",
              "    response: {\n",
              "      action: 'starting',\n",
              "    }\n",
              "  };\n",
              "\n",
              "  cancel.remove();\n",
              "\n",
              "  // Disable the input element since further picks are not allowed.\n",
              "  inputElement.disabled = true;\n",
              "\n",
              "  if (!files) {\n",
              "    return {\n",
              "      response: {\n",
              "        action: 'complete',\n",
              "      }\n",
              "    };\n",
              "  }\n",
              "\n",
              "  for (const file of files) {\n",
              "    const li = document.createElement('li');\n",
              "    li.append(span(file.name, {fontWeight: 'bold'}));\n",
              "    li.append(span(\n",
              "        `(${file.type || 'n/a'}) - ${file.size} bytes, ` +\n",
              "        `last modified: ${\n",
              "            file.lastModifiedDate ? file.lastModifiedDate.toLocaleDateString() :\n",
              "                                    'n/a'} - `));\n",
              "    const percent = span('0% done');\n",
              "    li.appendChild(percent);\n",
              "\n",
              "    outputElement.appendChild(li);\n",
              "\n",
              "    const fileDataPromise = new Promise((resolve) => {\n",
              "      const reader = new FileReader();\n",
              "      reader.onload = (e) => {\n",
              "        resolve(e.target.result);\n",
              "      };\n",
              "      reader.readAsArrayBuffer(file);\n",
              "    });\n",
              "    // Wait for the data to be ready.\n",
              "    let fileData = yield {\n",
              "      promise: fileDataPromise,\n",
              "      response: {\n",
              "        action: 'continue',\n",
              "      }\n",
              "    };\n",
              "\n",
              "    // Use a chunked sending to avoid message size limits. See b/62115660.\n",
              "    let position = 0;\n",
              "    do {\n",
              "      const length = Math.min(fileData.byteLength - position, MAX_PAYLOAD_SIZE);\n",
              "      const chunk = new Uint8Array(fileData, position, length);\n",
              "      position += length;\n",
              "\n",
              "      const base64 = btoa(String.fromCharCode.apply(null, chunk));\n",
              "      yield {\n",
              "        response: {\n",
              "          action: 'append',\n",
              "          file: file.name,\n",
              "          data: base64,\n",
              "        },\n",
              "      };\n",
              "\n",
              "      let percentDone = fileData.byteLength === 0 ?\n",
              "          100 :\n",
              "          Math.round((position / fileData.byteLength) * 100);\n",
              "      percent.textContent = `${percentDone}% done`;\n",
              "\n",
              "    } while (position < fileData.byteLength);\n",
              "  }\n",
              "\n",
              "  // All done.\n",
              "  yield {\n",
              "    response: {\n",
              "      action: 'complete',\n",
              "    }\n",
              "  };\n",
              "}\n",
              "\n",
              "scope.google = scope.google || {};\n",
              "scope.google.colab = scope.google.colab || {};\n",
              "scope.google.colab._files = {\n",
              "  _uploadFiles,\n",
              "  _uploadFilesContinue,\n",
              "};\n",
              "})(self);\n",
              "</script> "
            ]
          },
          "metadata": {}
        },
        {
          "output_type": "stream",
          "name": "stdout",
          "text": [
            "Saving kaggle.json to kaggle.json\n",
            "Downloading dogs-vs-cats.zip to /content\n",
            " 99% 805M/812M [00:04<00:00, 187MB/s]\n",
            "100% 812M/812M [00:04<00:00, 194MB/s]\n"
          ]
        }
      ],
      "source": [
        "from google.colab import files\n",
        "files.upload()\n",
        "\n",
        "!mkdir ~/.kaggle\n",
        "!cp kaggle.json ~/.kaggle/\n",
        "!chmod 600 ~/.kaggle/kaggle.json\n",
        "!kaggle competitions download -c dogs-vs-cats\n",
        "!unzip -qq dogs-vs-cats.zip\n",
        "!unzip -qq train.zip"
      ]
    },
    {
      "cell_type": "code",
      "source": [
        "import os, shutil, pathlib\n",
        "\n",
        "old_dir = pathlib.Path(\"train\")\n",
        "new_dir = pathlib.Path(\"cats_vs_dogs_small\")\n",
        "\n",
        "def make_subset(subset_name, start_index, end_index):\n",
        "    for category in (\"cat\", \"dog\"):\n",
        "        dir = new_dir / subset_name / category\n",
        "        os.makedirs(dir)\n",
        "        fnames = [f\"{category}.{i}.jpg\" for i in range(start_index, end_index)]\n",
        "        for fname in fnames:\n",
        "            shutil.copyfile(src=old_dir/ fname,\n",
        "                            dst=dir / fname)\n",
        "\n",
        "make_subset(\"test\", start_index=0, end_index=500)\n",
        "make_subset(\"validation\", start_index=500, end_index=1000)\n",
        "make_subset(\"train\", start_index=1000, end_index=2000)"
      ],
      "metadata": {
        "id": "F7bc6ArGHeIa"
      },
      "execution_count": null,
      "outputs": []
    },
    {
      "cell_type": "code",
      "source": [
        "from tensorflow import keras\n",
        "from tensorflow.keras import layers\n",
        "\n",
        "inputs = keras.Input(shape=(180, 180, 3))\n",
        "x = layers.Rescaling(1./255)(inputs)\n",
        "x = layers.Conv2D(filters=32, kernel_size=3, activation=\"relu\")(x)\n",
        "x = layers.MaxPooling2D(pool_size=2)(x)\n",
        "x = layers.Conv2D(filters=64, kernel_size=3, activation=\"relu\")(x)\n",
        "x = layers.MaxPooling2D(pool_size=2)(x)\n",
        "x = layers.Conv2D(filters=128, kernel_size=3, activation=\"relu\")(x)\n",
        "x = layers.MaxPooling2D(pool_size=2)(x)\n",
        "x = layers.Conv2D(filters=256, kernel_size=3, activation=\"relu\")(x)\n",
        "x = layers.MaxPooling2D(pool_size=2)(x)\n",
        "x = layers.Conv2D(filters=256, kernel_size=3, activation=\"relu\")(x)\n",
        "x = layers.Flatten()(x)\n",
        "outputs = layers.Dense(1, activation=\"sigmoid\")(x)\n",
        "model = keras.Model(inputs=inputs, outputs=outputs)"
      ],
      "metadata": {
        "id": "3S3_mrLmHitI"
      },
      "execution_count": null,
      "outputs": []
    },
    {
      "cell_type": "code",
      "source": [
        "model.summary()"
      ],
      "metadata": {
        "colab": {
          "base_uri": "https://localhost:8080/"
        },
        "id": "gfXqjjv0HlNl",
        "outputId": "b00bf49b-4245-41ac-8dba-5de7cff6938a"
      },
      "execution_count": null,
      "outputs": [
        {
          "output_type": "stream",
          "name": "stdout",
          "text": [
            "Model: \"model\"\n",
            "_________________________________________________________________\n",
            " Layer (type)                Output Shape              Param #   \n",
            "=================================================================\n",
            " input_1 (InputLayer)        [(None, 180, 180, 3)]     0         \n",
            "                                                                 \n",
            " rescaling (Rescaling)       (None, 180, 180, 3)       0         \n",
            "                                                                 \n",
            " conv2d (Conv2D)             (None, 178, 178, 32)      896       \n",
            "                                                                 \n",
            " max_pooling2d (MaxPooling2  (None, 89, 89, 32)        0         \n",
            " D)                                                              \n",
            "                                                                 \n",
            " conv2d_1 (Conv2D)           (None, 87, 87, 64)        18496     \n",
            "                                                                 \n",
            " max_pooling2d_1 (MaxPoolin  (None, 43, 43, 64)        0         \n",
            " g2D)                                                            \n",
            "                                                                 \n",
            " conv2d_2 (Conv2D)           (None, 41, 41, 128)       73856     \n",
            "                                                                 \n",
            " max_pooling2d_2 (MaxPoolin  (None, 20, 20, 128)       0         \n",
            " g2D)                                                            \n",
            "                                                                 \n",
            " conv2d_3 (Conv2D)           (None, 18, 18, 256)       295168    \n",
            "                                                                 \n",
            " max_pooling2d_3 (MaxPoolin  (None, 9, 9, 256)         0         \n",
            " g2D)                                                            \n",
            "                                                                 \n",
            " conv2d_4 (Conv2D)           (None, 7, 7, 256)         590080    \n",
            "                                                                 \n",
            " flatten (Flatten)           (None, 12544)             0         \n",
            "                                                                 \n",
            " dense (Dense)               (None, 1)                 12545     \n",
            "                                                                 \n",
            "=================================================================\n",
            "Total params: 991041 (3.78 MB)\n",
            "Trainable params: 991041 (3.78 MB)\n",
            "Non-trainable params: 0 (0.00 Byte)\n",
            "_________________________________________________________________\n"
          ]
        }
      ]
    },
    {
      "cell_type": "code",
      "source": [
        "model.compile(optimizer = \"rmsprop\", loss = \"binary_crossentropy\", metrics = [\"accuracy\"])"
      ],
      "metadata": {
        "id": "gZKAYxeeHuTP"
      },
      "execution_count": null,
      "outputs": []
    },
    {
      "cell_type": "code",
      "source": [
        "#image_dataset_from_directory is to setup a data pipeline that can automatically turn images to preprocessed tensors.\n",
        "from tensorflow.keras.utils import image_dataset_from_directory\n",
        "\n",
        "#this below directory it will do the subdirectories of directory and assume each one contains images from one of our classes.\n",
        "#it will create and return tf.data.Dataset that inturns read, shuffle, and decode them.\n",
        "train_datset = image_dataset_from_directory(\n",
        "    new_dir / \"train\",\n",
        "    image_size=(180, 180),\n",
        "    batch_size=32)\n",
        "validation_datset = image_dataset_from_directory(\n",
        "    new_dir / \"validation\",\n",
        "    image_size=(180, 180),\n",
        "    batch_size=32)\n",
        "test_datset = image_dataset_from_directory(\n",
        "    new_dir / \"test\",\n",
        "    image_size=(180, 180),\n",
        "    batch_size=32)"
      ],
      "metadata": {
        "colab": {
          "base_uri": "https://localhost:8080/"
        },
        "id": "NNIlSRTxHyWm",
        "outputId": "436241da-94b1-4550-a9bb-f2e9a5a6ba1f"
      },
      "execution_count": null,
      "outputs": [
        {
          "output_type": "stream",
          "name": "stdout",
          "text": [
            "Found 2000 files belonging to 2 classes.\n",
            "Found 1000 files belonging to 2 classes.\n",
            "Found 1000 files belonging to 2 classes.\n"
          ]
        }
      ]
    },
    {
      "cell_type": "code",
      "source": [
        "for data_batch, labels_batch in train_datset:\n",
        "    print(\"data_batch_shape:\", data_batch.shape)\n",
        "    print(\"labels_batch_shape:\", labels_batch.shape)\n",
        "    break"
      ],
      "metadata": {
        "colab": {
          "base_uri": "https://localhost:8080/"
        },
        "id": "fnDa2qc7H0m3",
        "outputId": "8e1b5e92-6e0f-4502-e66f-f7038f738c42"
      },
      "execution_count": null,
      "outputs": [
        {
          "output_type": "stream",
          "name": "stdout",
          "text": [
            "data_batch_shape: (32, 180, 180, 3)\n",
            "labels_batch_shape: (32,)\n"
          ]
        }
      ]
    },
    {
      "cell_type": "code",
      "source": [
        "callbacks = [\n",
        "    keras.callbacks.ModelCheckpoint(\n",
        "        filepath=\"conv_from_scratch1.keras\",\n",
        "\n",
        "        save_best_only=True,\n",
        "        monitor=\"val_loss\")\n",
        "]\n",
        "history = model.fit(\n",
        "    train_datset,\n",
        "    epochs=20,\n",
        "    validation_data=validation_datset,\n",
        "    callbacks=callbacks)"
      ],
      "metadata": {
        "colab": {
          "base_uri": "https://localhost:8080/"
        },
        "id": "HLcg4KhNIFzQ",
        "outputId": "bc2f81d1-88a6-407f-d14d-bc831f4c8b44"
      },
      "execution_count": null,
      "outputs": [
        {
          "output_type": "stream",
          "name": "stdout",
          "text": [
            "Epoch 1/20\n",
            "63/63 [==============================] - 207s 3s/step - loss: 0.7035 - accuracy: 0.4990 - val_loss: 0.6922 - val_accuracy: 0.5100\n",
            "Epoch 2/20\n",
            "63/63 [==============================] - 207s 3s/step - loss: 0.6959 - accuracy: 0.5540 - val_loss: 0.6852 - val_accuracy: 0.5510\n",
            "Epoch 3/20\n",
            "63/63 [==============================] - 204s 3s/step - loss: 0.6779 - accuracy: 0.5730 - val_loss: 0.6550 - val_accuracy: 0.6390\n",
            "Epoch 4/20\n",
            "63/63 [==============================] - 205s 3s/step - loss: 0.6604 - accuracy: 0.6125 - val_loss: 0.7214 - val_accuracy: 0.5640\n",
            "Epoch 5/20\n",
            "63/63 [==============================] - 191s 3s/step - loss: 0.6426 - accuracy: 0.6395 - val_loss: 0.6729 - val_accuracy: 0.5960\n",
            "Epoch 6/20\n",
            "63/63 [==============================] - 242s 4s/step - loss: 0.6230 - accuracy: 0.6615 - val_loss: 0.6678 - val_accuracy: 0.5700\n",
            "Epoch 7/20\n",
            "63/63 [==============================] - 206s 3s/step - loss: 0.5911 - accuracy: 0.6915 - val_loss: 0.5860 - val_accuracy: 0.7110\n",
            "Epoch 8/20\n",
            "63/63 [==============================] - 201s 3s/step - loss: 0.5649 - accuracy: 0.7290 - val_loss: 0.6276 - val_accuracy: 0.6530\n",
            "Epoch 9/20\n",
            "63/63 [==============================] - 196s 3s/step - loss: 0.5377 - accuracy: 0.7345 - val_loss: 0.5605 - val_accuracy: 0.7200\n",
            "Epoch 10/20\n",
            "63/63 [==============================] - 210s 3s/step - loss: 0.5048 - accuracy: 0.7550 - val_loss: 0.5985 - val_accuracy: 0.7000\n",
            "Epoch 11/20\n",
            "63/63 [==============================] - 217s 3s/step - loss: 0.4524 - accuracy: 0.7895 - val_loss: 0.6128 - val_accuracy: 0.7140\n",
            "Epoch 12/20\n",
            "63/63 [==============================] - 220s 4s/step - loss: 0.4054 - accuracy: 0.8110 - val_loss: 0.7505 - val_accuracy: 0.6970\n",
            "Epoch 13/20\n",
            "63/63 [==============================] - 218s 3s/step - loss: 0.3419 - accuracy: 0.8530 - val_loss: 0.8088 - val_accuracy: 0.7130\n",
            "Epoch 14/20\n",
            "63/63 [==============================] - 220s 4s/step - loss: 0.2903 - accuracy: 0.8660 - val_loss: 0.7583 - val_accuracy: 0.7340\n",
            "Epoch 15/20\n",
            "63/63 [==============================] - 210s 3s/step - loss: 0.2375 - accuracy: 0.8995 - val_loss: 1.1255 - val_accuracy: 0.6750\n",
            "Epoch 16/20\n",
            "63/63 [==============================] - 220s 3s/step - loss: 0.1763 - accuracy: 0.9275 - val_loss: 1.2931 - val_accuracy: 0.6810\n",
            "Epoch 17/20\n",
            "63/63 [==============================] - 229s 4s/step - loss: 0.1536 - accuracy: 0.9435 - val_loss: 1.1366 - val_accuracy: 0.7270\n",
            "Epoch 18/20\n",
            "63/63 [==============================] - 209s 3s/step - loss: 0.1202 - accuracy: 0.9580 - val_loss: 1.4912 - val_accuracy: 0.7080\n",
            "Epoch 19/20\n",
            "63/63 [==============================] - 201s 3s/step - loss: 0.0944 - accuracy: 0.9640 - val_loss: 1.4747 - val_accuracy: 0.7160\n",
            "Epoch 20/20\n",
            "63/63 [==============================] - 211s 3s/step - loss: 0.0797 - accuracy: 0.9695 - val_loss: 1.5506 - val_accuracy: 0.7050\n"
          ]
        }
      ]
    },
    {
      "cell_type": "markdown",
      "source": [
        "**Displaying curves of loss and accuracy during training**\n",
        "\n",
        "let's plot the loss and accuracy of the model within the training and validation data during training."
      ],
      "metadata": {
        "id": "yQMbysbHKnA3"
      }
    },
    {
      "cell_type": "code",
      "source": [
        "import matplotlib.pyplot as plt\n",
        "accuracy1 = history.history[\"accuracy\"]\n",
        "val_accuracy1 = history.history[\"val_accuracy\"]\n",
        "loss1 = history.history[\"loss\"]\n",
        "val_loss1 = history.history[\"val_loss\"]\n",
        "epochs = range(1, len(accuracy1) + 1)\n",
        "plt.plot(epochs, accuracy1, \"bo\", label=\"Training accuracy\")\n",
        "plt.plot(epochs, val_accuracy1, \"b\", label=\"Validation accuracy\")\n",
        "plt.title(\"Before AugmentationTraining and validation accuracy\")\n",
        "plt.legend()\n",
        "plt.figure()\n",
        "plt.plot(epochs, loss1, \"bo\", label=\"Training loss\")\n",
        "plt.plot(epochs, val_loss1, \"b\", label=\"Validation loss\")\n",
        "plt.title(\"Before Augmentation Training and validation loss\")\n",
        "plt.legend()\n",
        "plt.show()"
      ],
      "metadata": {
        "colab": {
          "base_uri": "https://localhost:8080/",
          "height": 887
        },
        "id": "7tSqoF6cKsPX",
        "outputId": "d0c816ee-a5b5-46fb-ae3e-20e1e10a6cc6"
      },
      "execution_count": null,
      "outputs": [
        {
          "output_type": "display_data",
          "data": {
            "text/plain": [
              "<Figure size 640x480 with 1 Axes>"
            ],
            "image/png": "[encoded data removed]"
          },
          "metadata": {}
        },
        {
          "output_type": "display_data",
          "data": {
            "text/plain": [
              "<Figure size 640x480 with 1 Axes>"
            ],
            "image/png": "[encoded data removed]"
          },
          "metadata": {}
        }
      ]
    },
    {
      "cell_type": "markdown",
      "source": [
        "The overfitting qualities may be seen in the preceding plots, where validation accuracy is barely at 75% and training accuracy rises linearly over time to almost 100%. Additionally, after increasing rapidly for up to ten epochs, the validation loss stalls, whereas the training loss continues to decrease linearly as training goes on.\n"
      ],
      "metadata": {
        "id": "b4BPAliCMe9l"
      }
    },
    {
      "cell_type": "markdown",
      "source": [
        "**Evaluating the model on test set**\n",
        "\n",
        "Let's check test accuracy"
      ],
      "metadata": {
        "id": "fcnoiwWbMhU_"
      }
    },
    {
      "cell_type": "code",
      "source": [
        "test_model1 = keras.models.load_model(\"conv_from_scratch1.keras\")\n",
        "test_loss, test_acc = test_model1.evaluate(test_datset)\n",
        "print(f\"Test accuracy: {test_acc:.3f}\")"
      ],
      "metadata": {
        "colab": {
          "base_uri": "https://localhost:8080/"
        },
        "id": "dN-t7p8EMlGj",
        "outputId": "4b9b1155-f8e8-40a0-d1f9-2e3c358bdd68"
      },
      "execution_count": null,
      "outputs": [
        {
          "output_type": "stream",
          "name": "stdout",
          "text": [
            "32/32 [==============================] - 2s 33ms/step - loss: 0.5411 - accuracy: 0.7330\n",
            "Test accuracy: 0.733\n"
          ]
        }
      ]
    },
    {
      "cell_type": "markdown",
      "source": [
        "we got a test accuracy of 70% because of less training data that leads to overfitting etc,. so that we need to work with specific one to computer vision when processing images with Deep learning models called Data Augmentation"
      ],
      "metadata": {
        "id": "S_gfYGIbMpeQ"
      }
    },
    {
      "cell_type": "markdown",
      "source": [
        "**Data Augmentation**\n",
        "\n",
        "To add an image model, define a data augmentation stage"
      ],
      "metadata": {
        "id": "kV4-QiNfMsb0"
      }
    },
    {
      "cell_type": "code",
      "source": [
        "#we are doing random flip, random rotation, random zoom\n",
        "data_augmentation = keras.Sequential(\n",
        "    [\n",
        "        layers.RandomFlip(\"horizontal\"),\n",
        "        layers.RandomRotation(0.1),\n",
        "        layers.RandomZoom(0.2),\n",
        "    ]\n",
        ")"
      ],
      "metadata": {
        "id": "NSCmb0HcMqRh"
      },
      "execution_count": null,
      "outputs": []
    },
    {
      "cell_type": "markdown",
      "source": [
        "**Displaying randomly Augmented training images**\n",
        "\n",
        "It's just like dropout where it overcome overfitting they're inactive during inference, it will behave as same model like when we not include data augmentation and dropout."
      ],
      "metadata": {
        "id": "fg2sG-etMxhF"
      }
    },
    {
      "cell_type": "markdown",
      "source": [
        "**Defining a convnet that includes image augmentation and dropout**"
      ],
      "metadata": {
        "id": "U_lkatwGMy4A"
      }
    },
    {
      "cell_type": "code",
      "source": [
        "inputs = keras.Input(shape=(180, 180, 3))\n",
        "x = data_augmentation(inputs)\n",
        "x = layers.Rescaling(1./255)(x)\n",
        "x = layers.Conv2D(filters=32, kernel_size=3, activation=\"relu\")(x)\n",
        "x = layers.MaxPooling2D(pool_size=2)(x)\n",
        "x = layers.Conv2D(filters=64, kernel_size=3, activation=\"relu\")(x)\n",
        "x = layers.MaxPooling2D(pool_size=2)(x)\n",
        "x = layers.Conv2D(filters=128, kernel_size=3, activation=\"relu\")(x)\n",
        "x = layers.MaxPooling2D(pool_size=2)(x)\n",
        "x = layers.Conv2D(filters=256, kernel_size=3, activation=\"relu\")(x)\n",
        "x = layers.MaxPooling2D(pool_size=2)(x)\n",
        "x = layers.Conv2D(filters=256, kernel_size=3, activation=\"relu\")(x)\n",
        "x = layers.Flatten()(x)\n",
        "outputs = layers.Dense(1, activation=\"sigmoid\")(x)\n",
        "model = keras.Model(inputs=inputs, outputs=outputs)\n",
        "\n",
        "model.compile(loss=\"binary_crossentropy\",\n",
        "              optimizer=\"rmsprop\",\n",
        "              metrics=[\"accuracy\"])"
      ],
      "metadata": {
        "id": "jFLHBXl6M5Ex"
      },
      "execution_count": null,
      "outputs": []
    },
    {
      "cell_type": "markdown",
      "source": [
        "**Training the regularized convnet**\n",
        "\n",
        "we train the model using data augmentation and dropout to overcome overfitting we will train as many number of times----100"
      ],
      "metadata": {
        "id": "v8ne-e1rM9d8"
      }
    },
    {
      "cell_type": "code",
      "source": [
        "callbacks = [\n",
        "    keras.callbacks.ModelCheckpoint(\n",
        "        filepath=\"conv_from_scratch_with_augmentation.keras\",\n",
        "        save_best_only=True,\n",
        "        monitor=\"val_loss\")\n",
        "]\n",
        "history = model.fit(\n",
        "    train_datset,\n",
        "    epochs=20,\n",
        "    validation_data=validation_datset,\n",
        "     callbacks=callbacks)"
      ],
      "metadata": {
        "colab": {
          "base_uri": "https://localhost:8080/"
        },
        "id": "FekI3g-3M8BG",
        "outputId": "84c1b12d-9d14-4f33-f1cb-de2c4716d64a"
      },
      "execution_count": null,
      "outputs": [
        {
          "output_type": "stream",
          "name": "stdout",
          "text": [
            "Epoch 1/20\n",
            "63/63 [==============================] - 8s 83ms/step - loss: 0.7123 - accuracy: 0.5000 - val_loss: 0.6921 - val_accuracy: 0.5000\n",
            "Epoch 2/20\n",
            "63/63 [==============================] - 4s 59ms/step - loss: 0.6882 - accuracy: 0.5565 - val_loss: 0.6748 - val_accuracy: 0.5940\n",
            "Epoch 3/20\n",
            "63/63 [==============================] - 4s 60ms/step - loss: 0.6779 - accuracy: 0.5980 - val_loss: 0.6638 - val_accuracy: 0.6420\n",
            "Epoch 4/20\n",
            "63/63 [==============================] - 7s 106ms/step - loss: 0.6644 - accuracy: 0.6210 - val_loss: 0.6529 - val_accuracy: 0.6430\n",
            "Epoch 5/20\n",
            "63/63 [==============================] - 4s 58ms/step - loss: 0.6586 - accuracy: 0.6160 - val_loss: 0.8199 - val_accuracy: 0.5080\n",
            "Epoch 6/20\n",
            "63/63 [==============================] - 6s 84ms/step - loss: 0.6383 - accuracy: 0.6520 - val_loss: 0.6372 - val_accuracy: 0.6550\n",
            "Epoch 7/20\n",
            "63/63 [==============================] - 4s 58ms/step - loss: 0.6209 - accuracy: 0.6625 - val_loss: 0.5997 - val_accuracy: 0.6910\n",
            "Epoch 8/20\n",
            "63/63 [==============================] - 4s 63ms/step - loss: 0.5939 - accuracy: 0.6890 - val_loss: 0.6702 - val_accuracy: 0.6400\n",
            "Epoch 9/20\n",
            "63/63 [==============================] - 7s 108ms/step - loss: 0.5932 - accuracy: 0.6955 - val_loss: 0.6321 - val_accuracy: 0.6540\n",
            "Epoch 10/20\n",
            "63/63 [==============================] - 4s 58ms/step - loss: 0.5735 - accuracy: 0.7065 - val_loss: 0.7696 - val_accuracy: 0.5620\n",
            "Epoch 11/20\n",
            "63/63 [==============================] - 4s 62ms/step - loss: 0.5695 - accuracy: 0.6970 - val_loss: 0.5502 - val_accuracy: 0.7350\n",
            "Epoch 12/20\n",
            "63/63 [==============================] - 6s 94ms/step - loss: 0.5578 - accuracy: 0.7080 - val_loss: 0.5627 - val_accuracy: 0.7350\n",
            "Epoch 13/20\n",
            "63/63 [==============================] - 4s 60ms/step - loss: 0.5453 - accuracy: 0.7330 - val_loss: 0.5130 - val_accuracy: 0.7550\n",
            "Epoch 14/20\n",
            "63/63 [==============================] - 6s 86ms/step - loss: 0.5432 - accuracy: 0.7295 - val_loss: 0.6262 - val_accuracy: 0.6770\n",
            "Epoch 15/20\n",
            "63/63 [==============================] - 4s 59ms/step - loss: 0.5219 - accuracy: 0.7385 - val_loss: 0.5040 - val_accuracy: 0.7590\n",
            "Epoch 16/20\n",
            "63/63 [==============================] - 5s 74ms/step - loss: 0.5004 - accuracy: 0.7550 - val_loss: 0.5202 - val_accuracy: 0.7630\n",
            "Epoch 17/20\n",
            "63/63 [==============================] - 6s 86ms/step - loss: 0.5075 - accuracy: 0.7515 - val_loss: 0.5105 - val_accuracy: 0.7640\n",
            "Epoch 18/20\n",
            "63/63 [==============================] - 4s 63ms/step - loss: 0.4981 - accuracy: 0.7545 - val_loss: 0.4977 - val_accuracy: 0.7660\n",
            "Epoch 19/20\n",
            "63/63 [==============================] - 4s 58ms/step - loss: 0.4847 - accuracy: 0.7755 - val_loss: 0.5324 - val_accuracy: 0.7570\n",
            "Epoch 20/20\n",
            "63/63 [==============================] - 7s 102ms/step - loss: 0.4787 - accuracy: 0.7715 - val_loss: 0.5174 - val_accuracy: 0.7680\n"
          ]
        }
      ]
    },
    {
      "cell_type": "markdown",
      "source": [
        "**Re-evaluating the model on the test dataset**"
      ],
      "metadata": {
        "id": "xIArs-kDNw-7"
      }
    },
    {
      "cell_type": "code",
      "source": [
        "test_model2 = keras.models.load_model(\n",
        "    \"conv_from_scratch_with_augmentation.keras\")\n",
        "test_loss, test_acc = test_model2.evaluate(test_datset)\n",
        "print(f\"Test accuracy: {test_acc:.3f}\")"
      ],
      "metadata": {
        "colab": {
          "base_uri": "https://localhost:8080/"
        },
        "id": "mqYFTCS2Nyqg",
        "outputId": "c1471cac-01b7-4b2b-b542-f557aaa962ac"
      },
      "execution_count": null,
      "outputs": [
        {
          "output_type": "stream",
          "name": "stdout",
          "text": [
            "32/32 [==============================] - 2s 29ms/step - loss: 0.4765 - accuracy: 0.7810\n",
            "Test accuracy: 0.781\n"
          ]
        }
      ]
    },
    {
      "cell_type": "code",
      "source": [
        "inputs = keras.Input(shape=(180, 180, 3))\n",
        "x = layers.Rescaling(1./255)(inputs)\n",
        "x = layers.Conv2D(filters=32, kernel_size=3, activation=\"relu\")(x)\n",
        "x = layers.MaxPooling2D(pool_size=2)(x)\n",
        "x = layers.Conv2D(filters=64, kernel_size=3, activation=\"relu\")(x)\n",
        "x = layers.MaxPooling2D(pool_size=2)(x)\n",
        "x = layers.Conv2D(filters=128, kernel_size=3, activation=\"relu\")(x)\n",
        "x = layers.MaxPooling2D(pool_size=2)(x)\n",
        "x = layers.Conv2D(filters=256, kernel_size=3, activation=\"relu\")(x)\n",
        "x = layers.MaxPooling2D(pool_size=2)(x)\n",
        "x = layers.Conv2D(filters=256, kernel_size=3, activation=\"relu\")(x)\n",
        "x = layers.Flatten()(x)\n",
        "x = layers.Dropout(0.5)(x)\n",
        "outputs = layers.Dense(1, activation=\"sigmoid\")(x)\n",
        "model = keras.Model(inputs=inputs, outputs=outputs)\n",
        "\n",
        "model.compile(loss=\"binary_crossentropy\",\n",
        "              optimizer=\"rmsprop\",\n",
        "              metrics=[\"accuracy\"])"
      ],
      "metadata": {
        "id": "8uvgdzsQN7pF"
      },
      "execution_count": null,
      "outputs": []
    },
    {
      "cell_type": "markdown",
      "source": [
        "**Training the regularized convnet**"
      ],
      "metadata": {
        "id": "GqLml29EOCwR"
      }
    },
    {
      "cell_type": "code",
      "source": [
        "callbacks = [\n",
        "    keras.callbacks.ModelCheckpoint(\n",
        "        filepath=\"conv_from_scratch_with_dropout.keras\",\n",
        "        save_best_only=True,\n",
        "        monitor=\"val_loss\")\n",
        "]\n",
        "history = model.fit(\n",
        "    train_datset,\n",
        "    epochs=20,\n",
        "    validation_data=validation_datset,\n",
        "    callbacks=callbacks)"
      ],
      "metadata": {
        "colab": {
          "base_uri": "https://localhost:8080/"
        },
        "id": "3qNybHqSOGzx",
        "outputId": "074d1239-4cc2-44ba-e0f6-e3d2a86e6a11"
      },
      "execution_count": null,
      "outputs": [
        {
          "output_type": "stream",
          "name": "stdout",
          "text": [
            "Epoch 1/20\n",
            "63/63 [==============================] - 6s 60ms/step - loss: 0.7177 - accuracy: 0.4905 - val_loss: 0.6926 - val_accuracy: 0.5000\n",
            "Epoch 2/20\n",
            "63/63 [==============================] - 5s 83ms/step - loss: 0.6972 - accuracy: 0.5185 - val_loss: 0.7041 - val_accuracy: 0.5000\n",
            "Epoch 3/20\n",
            "63/63 [==============================] - 4s 58ms/step - loss: 0.6962 - accuracy: 0.5380 - val_loss: 0.6879 - val_accuracy: 0.5640\n",
            "Epoch 4/20\n",
            "63/63 [==============================] - 6s 85ms/step - loss: 0.6759 - accuracy: 0.5670 - val_loss: 0.6629 - val_accuracy: 0.5850\n",
            "Epoch 5/20\n",
            "63/63 [==============================] - 5s 80ms/step - loss: 0.6722 - accuracy: 0.5955 - val_loss: 0.6787 - val_accuracy: 0.5760\n",
            "Epoch 6/20\n",
            "63/63 [==============================] - 4s 57ms/step - loss: 0.6502 - accuracy: 0.6200 - val_loss: 0.6512 - val_accuracy: 0.5910\n",
            "Epoch 7/20\n",
            "63/63 [==============================] - 4s 56ms/step - loss: 0.6349 - accuracy: 0.6320 - val_loss: 0.6709 - val_accuracy: 0.5840\n",
            "Epoch 8/20\n",
            "63/63 [==============================] - 6s 96ms/step - loss: 0.6090 - accuracy: 0.6690 - val_loss: 0.6200 - val_accuracy: 0.6570\n",
            "Epoch 9/20\n",
            "63/63 [==============================] - 5s 67ms/step - loss: 0.5830 - accuracy: 0.6885 - val_loss: 0.5859 - val_accuracy: 0.6980\n",
            "Epoch 10/20\n",
            "63/63 [==============================] - 4s 57ms/step - loss: 0.5563 - accuracy: 0.7180 - val_loss: 0.7046 - val_accuracy: 0.6620\n",
            "Epoch 11/20\n",
            "63/63 [==============================] - 4s 64ms/step - loss: 0.5215 - accuracy: 0.7355 - val_loss: 0.5486 - val_accuracy: 0.7160\n",
            "Epoch 12/20\n",
            "63/63 [==============================] - 6s 96ms/step - loss: 0.4872 - accuracy: 0.7625 - val_loss: 0.6544 - val_accuracy: 0.6960\n",
            "Epoch 13/20\n",
            "63/63 [==============================] - 4s 57ms/step - loss: 0.4651 - accuracy: 0.7910 - val_loss: 0.8187 - val_accuracy: 0.6060\n",
            "Epoch 14/20\n",
            "63/63 [==============================] - 4s 57ms/step - loss: 0.4347 - accuracy: 0.8105 - val_loss: 0.5246 - val_accuracy: 0.7380\n",
            "Epoch 15/20\n",
            "63/63 [==============================] - 5s 83ms/step - loss: 0.3883 - accuracy: 0.8245 - val_loss: 0.6111 - val_accuracy: 0.7220\n",
            "Epoch 16/20\n",
            "63/63 [==============================] - 4s 59ms/step - loss: 0.3552 - accuracy: 0.8435 - val_loss: 0.5590 - val_accuracy: 0.7350\n",
            "Epoch 17/20\n",
            "63/63 [==============================] - 5s 83ms/step - loss: 0.3028 - accuracy: 0.8770 - val_loss: 0.7316 - val_accuracy: 0.7410\n",
            "Epoch 18/20\n",
            "63/63 [==============================] - 6s 82ms/step - loss: 0.2647 - accuracy: 0.8925 - val_loss: 0.6243 - val_accuracy: 0.7350\n",
            "Epoch 19/20\n",
            "63/63 [==============================] - 4s 57ms/step - loss: 0.2329 - accuracy: 0.9065 - val_loss: 0.6565 - val_accuracy: 0.7430\n",
            "Epoch 20/20\n",
            "63/63 [==============================] - 7s 102ms/step - loss: 0.1893 - accuracy: 0.9240 - val_loss: 0.8561 - val_accuracy: 0.7530\n"
          ]
        }
      ]
    },
    {
      "cell_type": "code",
      "source": [
        "test_model2 = keras.models.load_model(\n",
        "    \"conv_from_scratch_with_dropout.keras\")\n",
        "test_loss, test_acc = test_model2.evaluate(test_datset)\n",
        "print(f\"Test accuracy: {test_acc:.3f}\")"
      ],
      "metadata": {
        "colab": {
          "base_uri": "https://localhost:8080/"
        },
        "id": "AsFDrBDVOgyJ",
        "outputId": "8b3cc2a4-08c8-438e-9443-0bc040049fca"
      },
      "execution_count": null,
      "outputs": [
        {
          "output_type": "stream",
          "name": "stdout",
          "text": [
            "32/32 [==============================] - 1s 29ms/step - loss: 0.5081 - accuracy: 0.7570\n",
            "Test accuracy: 0.757\n"
          ]
        }
      ]
    },
    {
      "cell_type": "markdown",
      "source": [
        "**Using Image Augmentation and Dropout method**"
      ],
      "metadata": {
        "id": "AAz3qi3YOjUC"
      }
    },
    {
      "cell_type": "code",
      "source": [
        "data_augmentation = keras.Sequential(\n",
        "    [\n",
        "        layers.RandomFlip(\"horizontal\"),\n",
        "        layers.RandomRotation(0.1),\n",
        "        layers.RandomZoom(0.2),\n",
        "    ]\n",
        ")"
      ],
      "metadata": {
        "id": "_Z3psiU9OktG"
      },
      "execution_count": null,
      "outputs": []
    },
    {
      "cell_type": "markdown",
      "source": [
        "Here a new convnet that includes both image augmentation and dropout"
      ],
      "metadata": {
        "id": "v_vpQGObOr9b"
      }
    },
    {
      "cell_type": "code",
      "source": [
        "inputs = keras.Input(shape=(180, 180, 3))\n",
        "x = data_augmentation(inputs)\n",
        "x = layers.Rescaling(1./255)(x)\n",
        "x = layers.Conv2D(filters=32, kernel_size=3, activation=\"relu\")(x)\n",
        "x = layers.MaxPooling2D(pool_size=2)(x)\n",
        "x = layers.Conv2D(filters=64, kernel_size=3, activation=\"relu\")(x)\n",
        "x = layers.MaxPooling2D(pool_size=2)(x)\n",
        "x = layers.Conv2D(filters=128, kernel_size=3, activation=\"relu\")(x)\n",
        "x = layers.MaxPooling2D(pool_size=2)(x)\n",
        "x = layers.Conv2D(filters=256, kernel_size=3, activation=\"relu\")(x)\n",
        "x = layers.MaxPooling2D(pool_size=2)(x)\n",
        "x = layers.Conv2D(filters=256, kernel_size=3, activation=\"relu\")(x)\n",
        "x = layers.Flatten()(x)\n",
        "x = layers.Dropout(0.5)(x)\n",
        "outputs = layers.Dense(1, activation=\"sigmoid\")(x)\n",
        "model = keras.Model(inputs=inputs, outputs=outputs)\n",
        "\n",
        "model.compile(loss=\"binary_crossentropy\",\n",
        "              optimizer=\"rmsprop\",\n",
        "              metrics=[\"accuracy\"])"
      ],
      "metadata": {
        "id": "l_r2wC10OswZ"
      },
      "execution_count": null,
      "outputs": []
    },
    {
      "cell_type": "markdown",
      "source": [
        "Training the regularized convnet"
      ],
      "metadata": {
        "id": "nDlcZAZNO1Ce"
      }
    },
    {
      "cell_type": "code",
      "source": [
        "callbacks = [\n",
        "    keras.callbacks.ModelCheckpoint(\n",
        "        filepath=\"conv_from_scratch_with_augmentation_dropout.keras\",\n",
        "        save_best_only=True,\n",
        "        monitor=\"val_loss\")\n",
        "]\n",
        "history = model.fit(\n",
        "    train_datset,\n",
        "    epochs=20,\n",
        "    validation_data=validation_datset,\n",
        "    callbacks=callbacks)"
      ],
      "metadata": {
        "colab": {
          "base_uri": "https://localhost:8080/"
        },
        "id": "bn7vKZa7O3fU",
        "outputId": "07e551ab-9bce-4b81-9001-3309ba91d7fc"
      },
      "execution_count": null,
      "outputs": [
        {
          "output_type": "stream",
          "name": "stdout",
          "text": [
            "Epoch 1/20\n",
            "63/63 [==============================] - 6s 67ms/step - loss: 0.6952 - accuracy: 0.5070 - val_loss: 0.6934 - val_accuracy: 0.5000\n",
            "Epoch 2/20\n",
            "63/63 [==============================] - 6s 86ms/step - loss: 0.7000 - accuracy: 0.5250 - val_loss: 0.6895 - val_accuracy: 0.6000\n",
            "Epoch 3/20\n",
            "63/63 [==============================] - 6s 82ms/step - loss: 0.7043 - accuracy: 0.5610 - val_loss: 0.6792 - val_accuracy: 0.5790\n",
            "Epoch 4/20\n",
            "63/63 [==============================] - 4s 58ms/step - loss: 0.6857 - accuracy: 0.5790 - val_loss: 0.6813 - val_accuracy: 0.5540\n",
            "Epoch 5/20\n",
            "63/63 [==============================] - 4s 59ms/step - loss: 0.6743 - accuracy: 0.5995 - val_loss: 0.6409 - val_accuracy: 0.6250\n",
            "Epoch 6/20\n",
            "63/63 [==============================] - 7s 95ms/step - loss: 0.6681 - accuracy: 0.6295 - val_loss: 0.6607 - val_accuracy: 0.5970\n",
            "Epoch 7/20\n",
            "63/63 [==============================] - 4s 60ms/step - loss: 0.6352 - accuracy: 0.6405 - val_loss: 0.6290 - val_accuracy: 0.6440\n",
            "Epoch 8/20\n",
            "63/63 [==============================] - 4s 59ms/step - loss: 0.6335 - accuracy: 0.6465 - val_loss: 0.6054 - val_accuracy: 0.6760\n",
            "Epoch 9/20\n",
            "63/63 [==============================] - 7s 105ms/step - loss: 0.6341 - accuracy: 0.6655 - val_loss: 0.6263 - val_accuracy: 0.6580\n",
            "Epoch 10/20\n",
            "63/63 [==============================] - 4s 64ms/step - loss: 0.5924 - accuracy: 0.6810 - val_loss: 0.5807 - val_accuracy: 0.6930\n",
            "Epoch 11/20\n",
            "63/63 [==============================] - 4s 59ms/step - loss: 0.5930 - accuracy: 0.6915 - val_loss: 0.6790 - val_accuracy: 0.6430\n",
            "Epoch 12/20\n",
            "63/63 [==============================] - 6s 86ms/step - loss: 0.5920 - accuracy: 0.6995 - val_loss: 0.7611 - val_accuracy: 0.5970\n",
            "Epoch 13/20\n",
            "63/63 [==============================] - 4s 59ms/step - loss: 0.5745 - accuracy: 0.6905 - val_loss: 0.5513 - val_accuracy: 0.7220\n",
            "Epoch 14/20\n",
            "63/63 [==============================] - 4s 62ms/step - loss: 0.5892 - accuracy: 0.6995 - val_loss: 0.5943 - val_accuracy: 0.6770\n",
            "Epoch 15/20\n",
            "63/63 [==============================] - 10s 154ms/step - loss: 0.5601 - accuracy: 0.7230 - val_loss: 0.5842 - val_accuracy: 0.7100\n",
            "Epoch 16/20\n",
            "63/63 [==============================] - 4s 60ms/step - loss: 0.5547 - accuracy: 0.7145 - val_loss: 0.5345 - val_accuracy: 0.7350\n",
            "Epoch 17/20\n",
            "63/63 [==============================] - 5s 83ms/step - loss: 0.5324 - accuracy: 0.7285 - val_loss: 0.5537 - val_accuracy: 0.7400\n",
            "Epoch 18/20\n",
            "63/63 [==============================] - 6s 86ms/step - loss: 0.5325 - accuracy: 0.7375 - val_loss: 0.5490 - val_accuracy: 0.7170\n",
            "Epoch 19/20\n",
            "63/63 [==============================] - 4s 63ms/step - loss: 0.5134 - accuracy: 0.7465 - val_loss: 0.4904 - val_accuracy: 0.7680\n",
            "Epoch 20/20\n",
            "63/63 [==============================] - 7s 100ms/step - loss: 0.5188 - accuracy: 0.7500 - val_loss: 0.5499 - val_accuracy: 0.7460\n"
          ]
        }
      ]
    },
    {
      "cell_type": "markdown",
      "source": [
        "**Evaluating the model on the test set**"
      ],
      "metadata": {
        "id": "RKVMdnDQPQjI"
      }
    },
    {
      "cell_type": "code",
      "source": [
        "test_model2 = keras.models.load_model(\n",
        "    \"conv_from_scratch_with_augmentation_dropout.keras\")\n",
        "test_loss, test_acc = test_model2.evaluate(test_datset)\n",
        "print(f\"Test accuracy: {test_acc:.3f}\")"
      ],
      "metadata": {
        "colab": {
          "base_uri": "https://localhost:8080/"
        },
        "id": "MNVjumOcPSFz",
        "outputId": "1e763e30-c1f3-4710-faf5-5f6f722b838d"
      },
      "execution_count": null,
      "outputs": [
        {
          "output_type": "stream",
          "name": "stdout",
          "text": [
            "32/32 [==============================] - 1s 29ms/step - loss: 0.4599 - accuracy: 0.7840\n",
            "Test accuracy: 0.784\n"
          ]
        }
      ]
    },
    {
      "cell_type": "markdown",
      "source": [
        "2. Increase your training sample size. You may pick any amount. Keep the validation and test samples the same as above. Optimize your network (again training from scratch). What performance did you achieve?"
      ],
      "metadata": {
        "id": "M2UFzKSgPXMn"
      }
    },
    {
      "cell_type": "markdown",
      "source": [
        "Here i am increasing the samples to 5000 and the model performance needs to be evaluated.\n",
        "\n",
        "The technique here i am using data augmentation and dropout due to the performance was high based on the previous models by using this."
      ],
      "metadata": {
        "id": "FIL46fs3PYVO"
      }
    },
    {
      "cell_type": "code",
      "source": [
        "make_subset(\"train__2\", start_index=1000, end_index=8000)\n",
        "\n",
        "train_dataset_2 = image_dataset_from_directory(\n",
        "    new_dir / \"train__2\",\n",
        "    image_size=(180, 180),\n",
        "    batch_size=32)"
      ],
      "metadata": {
        "id": "nUZaoVUqP3Uc",
        "colab": {
          "base_uri": "https://localhost:8080/"
        },
        "outputId": "97b73f88-ba71-4a65-e1fb-dab5bb0cee36"
      },
      "execution_count": null,
      "outputs": [
        {
          "output_type": "stream",
          "name": "stdout",
          "text": [
            "Found 14000 files belonging to 2 classes.\n"
          ]
        }
      ]
    },
    {
      "cell_type": "markdown",
      "source": [
        "New convnet that includes both image augmentation and dropout"
      ],
      "metadata": {
        "id": "EFXOqdD7P4dX"
      }
    },
    {
      "cell_type": "code",
      "source": [
        "inputs = keras.Input(shape=(180, 180, 3))\n",
        "x = data_augmentation(inputs)\n",
        "x = layers.Rescaling(1./255)(inputs)\n",
        "x = layers.Conv2D(filters=32, kernel_size=3, activation=\"relu\")(x)\n",
        "x = layers.MaxPooling2D(pool_size=2)(x)\n",
        "x = layers.Conv2D(filters=64, kernel_size=3, activation=\"relu\")(x)\n",
        "x = layers.MaxPooling2D(pool_size=2)(x)\n",
        "x = layers.Conv2D(filters=128, kernel_size=3, activation=\"relu\")(x)\n",
        "x = layers.MaxPooling2D(pool_size=2)(x)\n",
        "x = layers.Conv2D(filters=256, kernel_size=3, activation=\"relu\")(x)\n",
        "x = layers.MaxPooling2D(pool_size=2)(x)\n",
        "x = layers.Conv2D(filters=256, kernel_size=3, activation=\"relu\")(x)\n",
        "x = layers.Flatten()(x)\n",
        "x = layers.Dropout(0.5)(x)\n",
        "outputs = layers.Dense(1, activation=\"sigmoid\")(x)\n",
        "model = keras.Model(inputs=inputs, outputs=outputs)\n",
        "\n",
        "model.compile(loss=\"binary_crossentropy\",\n",
        "              optimizer=\"rmsprop\",\n",
        "              metrics=[\"accuracy\"])"
      ],
      "metadata": {
        "id": "I6lzLCFiP9GC"
      },
      "execution_count": null,
      "outputs": []
    },
    {
      "cell_type": "markdown",
      "source": [
        "**Training a reglularized convnet**"
      ],
      "metadata": {
        "id": "nH459kOWP_g2"
      }
    },
    {
      "cell_type": "code",
      "source": [
        "callbacks = [\n",
        "    keras.callbacks.ModelCheckpoint(\n",
        "        filepath=\"conv_from_scratch1.keras\",\n",
        "        save_best_only=True,\n",
        "        monitor=\"val_loss\")\n",
        "]\n",
        "history = model.fit(\n",
        "    train_dataset_2,\n",
        "    epochs=20,\n",
        "    validation_data=validation_datset,\n",
        "    callbacks=callbacks)"
      ],
      "metadata": {
        "colab": {
          "base_uri": "https://localhost:8080/"
        },
        "id": "bSeNeuLwQPBq",
        "outputId": "2c5ac131-a444-4f28-9ee8-68511d6af0db"
      },
      "execution_count": null,
      "outputs": [
        {
          "output_type": "stream",
          "name": "stdout",
          "text": [
            "Epoch 1/20\n",
            "438/438 [==============================] - 129s 292ms/step - loss: 0.1675 - accuracy: 0.9354 - val_loss: 0.0674 - val_accuracy: 0.9800\n",
            "Epoch 2/20\n",
            "438/438 [==============================] - 134s 304ms/step - loss: 0.1503 - accuracy: 0.9417 - val_loss: 0.0588 - val_accuracy: 0.9800\n",
            "Epoch 3/20\n",
            "438/438 [==============================] - 133s 302ms/step - loss: 0.1334 - accuracy: 0.9493 - val_loss: 0.0569 - val_accuracy: 0.9770\n",
            "Epoch 4/20\n",
            "438/438 [==============================] - 131s 299ms/step - loss: 0.1255 - accuracy: 0.9515 - val_loss: 0.0590 - val_accuracy: 0.9790\n",
            "Epoch 5/20\n",
            "438/438 [==============================] - 132s 300ms/step - loss: 0.1201 - accuracy: 0.9561 - val_loss: 0.3475 - val_accuracy: 0.9320\n",
            "Epoch 6/20\n",
            "438/438 [==============================] - 131s 300ms/step - loss: 0.1147 - accuracy: 0.9569 - val_loss: 0.0686 - val_accuracy: 0.9830\n",
            "Epoch 7/20\n",
            "438/438 [==============================] - 132s 301ms/step - loss: 0.1196 - accuracy: 0.9564 - val_loss: 0.0552 - val_accuracy: 0.9820\n",
            "Epoch 8/20\n",
            "438/438 [==============================] - 131s 298ms/step - loss: 0.1021 - accuracy: 0.9614 - val_loss: 0.0977 - val_accuracy: 0.9740\n",
            "Epoch 9/20\n",
            "438/438 [==============================] - 131s 299ms/step - loss: 0.1086 - accuracy: 0.9618 - val_loss: 0.0675 - val_accuracy: 0.9770\n",
            "Epoch 10/20\n",
            "438/438 [==============================] - 132s 300ms/step - loss: 0.1129 - accuracy: 0.9605 - val_loss: 0.0555 - val_accuracy: 0.9780\n",
            "Epoch 11/20\n",
            "438/438 [==============================] - 132s 300ms/step - loss: 0.0967 - accuracy: 0.9645 - val_loss: 0.1096 - val_accuracy: 0.9730\n",
            "Epoch 12/20\n",
            "438/438 [==============================] - 133s 304ms/step - loss: 0.0967 - accuracy: 0.9659 - val_loss: 0.0773 - val_accuracy: 0.9800\n",
            "Epoch 13/20\n",
            "438/438 [==============================] - 131s 298ms/step - loss: 0.1057 - accuracy: 0.9623 - val_loss: 0.0588 - val_accuracy: 0.9760\n",
            "Epoch 14/20\n",
            "438/438 [==============================] - 132s 300ms/step - loss: 0.0912 - accuracy: 0.9686 - val_loss: 0.0702 - val_accuracy: 0.9730\n",
            "Epoch 15/20\n",
            "438/438 [==============================] - 133s 302ms/step - loss: 0.1007 - accuracy: 0.9678 - val_loss: 0.0809 - val_accuracy: 0.9780\n",
            "Epoch 16/20\n",
            "438/438 [==============================] - 132s 301ms/step - loss: 0.0931 - accuracy: 0.9685 - val_loss: 0.0599 - val_accuracy: 0.9780\n",
            "Epoch 17/20\n",
            "438/438 [==============================] - 132s 302ms/step - loss: 0.1056 - accuracy: 0.9651 - val_loss: 0.0645 - val_accuracy: 0.9810\n",
            "Epoch 18/20\n",
            "438/438 [==============================] - 134s 306ms/step - loss: 0.0959 - accuracy: 0.9679 - val_loss: 0.0691 - val_accuracy: 0.9710\n",
            "Epoch 19/20\n",
            "438/438 [==============================] - 133s 303ms/step - loss: 0.0976 - accuracy: 0.9666 - val_loss: 0.0550 - val_accuracy: 0.9820\n",
            "Epoch 20/20\n",
            "438/438 [==============================] - 134s 306ms/step - loss: 0.0965 - accuracy: 0.9681 - val_loss: 0.0586 - val_accuracy: 0.9850\n"
          ]
        }
      ]
    },
    {
      "cell_type": "code",
      "source": [
        "test_model= keras.models.load.model(\n",
        "    \"convent_from_scrath3.keras\")\n",
        "test_loss, test_acc=test_model.evaluate(test_dataset)\n",
        "printf(f\"Test Accuracy: {test_acc:.3f}\")"
      ],
      "metadata": {
        "id": "up2tbvZVroP5"
      },
      "execution_count": null,
      "outputs": []
    },
    {
      "cell_type": "markdown",
      "source": [
        "3. Now change your training sample so that you achieve better performance than those from Steps 1 and 2. This sample size may be larger, or smaller than those in the previous steps. The objective is to find the ideal training sample size to get best prediction results"
      ],
      "metadata": {
        "id": "L0BnZyt-QXZ4"
      }
    },
    {
      "cell_type": "markdown",
      "source": [
        "Increased the samples from 8000 to 10000 in order to check the efficiency of the model"
      ],
      "metadata": {
        "id": "IwpVqwxGQdrt"
      }
    },
    {
      "cell_type": "code",
      "source": [
        "make_subset(\"train_3\", start_index=1000, end_index=10000)\n",
        "\n",
        "train_dataset2 = image_dataset_from_directory(\n",
        "    new_dir / \"train_3\",\n",
        "    image_size=(180, 180),\n",
        "    batch_size=32)"
      ],
      "metadata": {
        "id": "qHBICdpuQZXL"
      },
      "execution_count": null,
      "outputs": []
    },
    {
      "cell_type": "markdown",
      "source": [
        "Model Building with both Image augmentation and dropout\n",
        "\n",
        "new convnet that includes both image augmentation and dropout"
      ],
      "metadata": {
        "id": "1713GBRPQi3Z"
      }
    },
    {
      "cell_type": "code",
      "source": [
        "from tensorflow import keras\n",
        "from tensorflow.keras import layers\n",
        "\n",
        "inputs = keras.Input(shape=(180, 180, 3))\n",
        "x = layers.Rescaling(1./255)(inputs)\n",
        "x = layers.Conv2D(filters=32, kernel_size=3, activation=\"relu\")(x)\n",
        "x = layers.MaxPooling2D(pool_size=2)(x)\n",
        "x = layers.Conv2D(filters=64, kernel_size=3, activation=\"relu\")(x)\n",
        "x = layers.MaxPooling2D(pool_size=2)(x)\n",
        "x = layers.Conv2D(filters=128, kernel_size=3, activation=\"relu\")(x)\n",
        "x = layers.MaxPooling2D(pool_size=2)(x)\n",
        "x = layers.Conv2D(filters=256, kernel_size=3, activation=\"relu\")(x)\n",
        "x = layers.MaxPooling2D(pool_size=2)(x)\n",
        "x = layers.Conv2D(filters=256, kernel_size=3, activation=\"relu\")(x)\n",
        "x = layers.Flatten()(x)\n",
        "outputs = layers.Dense(1, activation=\"sigmoid\")(x)\n",
        "model = keras.Model(inputs=inputs, outputs=outputs)\n",
        "\n",
        "model.compile(loss=\"binary_crossentropy\",\n",
        "              optimizer=\"rmsprop\",\n",
        "              metrics=[\"accuracy\"])"
      ],
      "metadata": {
        "id": "_JhKdkVMQjj5"
      },
      "execution_count": null,
      "outputs": []
    },
    {
      "cell_type": "markdown",
      "source": [
        "Training the regularized convnet"
      ],
      "metadata": {
        "id": "7oAzWNMeQoJb"
      }
    },
    {
      "cell_type": "code",
      "source": [
        "callbacks = [\n",
        "    keras.callbacks.ModelCheckpoint(\n",
        "        filepath=\"conv_from_scratch_test1.keras\",\n",
        "        save_best_only=True,\n",
        "        monitor=\"val_loss\")\n",
        "]\n",
        "\n",
        "history = model.fit(\n",
        "    train_dataset_2,\n",
        "    epochs=20,\n",
        "    validation_data=validation_datset,\n",
        "    callbacks=callbacks)"
      ],
      "metadata": {
        "id": "bnkoHLggQoyZ",
        "colab": {
          "base_uri": "https://localhost:8080/"
        },
        "outputId": "917bb647-a6a2-4961-baff-f2eb20760fa6"
      },
      "execution_count": null,
      "outputs": [
        {
          "output_type": "stream",
          "name": "stdout",
          "text": [
            "Epoch 1/20\n",
            "438/438 [==============================] - 25s 54ms/step - loss: 0.6584 - accuracy: 0.5966 - val_loss: 0.5972 - val_accuracy: 0.7100\n",
            "Epoch 2/20\n",
            "438/438 [==============================] - 22s 50ms/step - loss: 0.5350 - accuracy: 0.7309 - val_loss: 0.5364 - val_accuracy: 0.7410\n",
            "Epoch 3/20\n",
            "438/438 [==============================] - 22s 50ms/step - loss: 0.4547 - accuracy: 0.7919 - val_loss: 0.5353 - val_accuracy: 0.7330\n",
            "Epoch 4/20\n",
            "438/438 [==============================] - 27s 61ms/step - loss: 0.3883 - accuracy: 0.8268 - val_loss: 0.3925 - val_accuracy: 0.8390\n",
            "Epoch 5/20\n",
            "438/438 [==============================] - 22s 50ms/step - loss: 0.3225 - accuracy: 0.8598 - val_loss: 0.3900 - val_accuracy: 0.8320\n",
            "Epoch 6/20\n",
            "438/438 [==============================] - 22s 49ms/step - loss: 0.2668 - accuracy: 0.8901 - val_loss: 0.4118 - val_accuracy: 0.8450\n",
            "Epoch 7/20\n",
            "438/438 [==============================] - 22s 50ms/step - loss: 0.2155 - accuracy: 0.9109 - val_loss: 0.3531 - val_accuracy: 0.8780\n",
            "Epoch 8/20\n",
            "438/438 [==============================] - 24s 54ms/step - loss: 0.1632 - accuracy: 0.9358 - val_loss: 0.4064 - val_accuracy: 0.8630\n",
            "Epoch 9/20\n",
            "438/438 [==============================] - 25s 56ms/step - loss: 0.1296 - accuracy: 0.9486 - val_loss: 0.4851 - val_accuracy: 0.8550\n",
            "Epoch 10/20\n",
            "438/438 [==============================] - 24s 54ms/step - loss: 0.1018 - accuracy: 0.9634 - val_loss: 0.6415 - val_accuracy: 0.8350\n",
            "Epoch 11/20\n",
            "438/438 [==============================] - 28s 64ms/step - loss: 0.0834 - accuracy: 0.9684 - val_loss: 0.5291 - val_accuracy: 0.8690\n",
            "Epoch 12/20\n",
            "438/438 [==============================] - 25s 58ms/step - loss: 0.0765 - accuracy: 0.9736 - val_loss: 0.6307 - val_accuracy: 0.8590\n",
            "Epoch 13/20\n",
            "438/438 [==============================] - 28s 63ms/step - loss: 0.0705 - accuracy: 0.9759 - val_loss: 0.5666 - val_accuracy: 0.8670\n",
            "Epoch 14/20\n",
            "438/438 [==============================] - 22s 50ms/step - loss: 0.0616 - accuracy: 0.9799 - val_loss: 0.7903 - val_accuracy: 0.8480\n",
            "Epoch 15/20\n",
            "438/438 [==============================] - 28s 63ms/step - loss: 0.0597 - accuracy: 0.9805 - val_loss: 0.6777 - val_accuracy: 0.8720\n",
            "Epoch 16/20\n",
            "438/438 [==============================] - 25s 57ms/step - loss: 0.0628 - accuracy: 0.9806 - val_loss: 0.7201 - val_accuracy: 0.8850\n",
            "Epoch 17/20\n",
            "438/438 [==============================] - 24s 55ms/step - loss: 0.0625 - accuracy: 0.9805 - val_loss: 0.8220 - val_accuracy: 0.8900\n",
            "Epoch 18/20\n",
            "438/438 [==============================] - 23s 52ms/step - loss: 0.0619 - accuracy: 0.9808 - val_loss: 0.7733 - val_accuracy: 0.8840\n",
            "Epoch 19/20\n",
            "438/438 [==============================] - 22s 51ms/step - loss: 0.0532 - accuracy: 0.9850 - val_loss: 0.9373 - val_accuracy: 0.8770\n",
            "Epoch 20/20\n",
            "438/438 [==============================] - 23s 51ms/step - loss: 0.0585 - accuracy: 0.9840 - val_loss: 1.1149 - val_accuracy: 0.8640\n"
          ]
        }
      ]
    },
    {
      "cell_type": "markdown",
      "source": [
        "Evaluating the model with test set"
      ],
      "metadata": {
        "id": "Kh1bt5ytQuIA"
      }
    },
    {
      "cell_type": "code",
      "source": [
        "test_model4 = keras.models.load_model(\n",
        "    \"conv_from_scratch_test1.keras\")\n",
        "test_loss, test_acc = test_model4.evaluate(test_datset)\n",
        "print(f\"Test accuracy: {test_acc:.3f}\")"
      ],
      "metadata": {
        "id": "DKjePKseQu8T",
        "colab": {
          "base_uri": "https://localhost:8080/"
        },
        "outputId": "fddb8724-7c9d-46a6-a215-682a9bcc78ca"
      },
      "execution_count": null,
      "outputs": [
        {
          "output_type": "stream",
          "name": "stdout",
          "text": [
            "32/32 [==============================] - 3s 66ms/step - loss: 0.3261 - accuracy: 0.8740\n",
            "Test accuracy: 0.874\n"
          ]
        }
      ]
    },
    {
      "cell_type": "markdown",
      "source": [
        "with dropout"
      ],
      "metadata": {
        "id": "PLN4GMLGQzIn"
      }
    },
    {
      "cell_type": "code",
      "source": [
        "inputs = keras.Input(shape=(180, 180, 3))\n",
        "x = data_augmentation(inputs)\n",
        "x = layers.Rescaling(1./255)(inputs)\n",
        "x = layers.Conv2D(filters=32, kernel_size=3, activation=\"relu\")(x)\n",
        "x = layers.MaxPooling2D(pool_size=2)(x)\n",
        "x = layers.Conv2D(filters=64, kernel_size=3, activation=\"relu\")(x)\n",
        "x = layers.MaxPooling2D(pool_size=2)(x)\n",
        "x = layers.Conv2D(filters=128, kernel_size=3, activation=\"relu\")(x)\n",
        "x = layers.MaxPooling2D(pool_size=2)(x)\n",
        "x = layers.Conv2D(filters=256, kernel_size=3, activation=\"relu\")(x)\n",
        "x = layers.MaxPooling2D(pool_size=2)(x)\n",
        "x = layers.Conv2D(filters=256, kernel_size=3, activation=\"relu\")(x)\n",
        "x = layers.Flatten()(x)\n",
        "x = layers.Dropout(0.5)(x)\n",
        "outputs = layers.Dense(1, activation=\"sigmoid\")(x)\n",
        "model = keras.Model(inputs=inputs, outputs=outputs)\n",
        "\n",
        "model.compile(loss=\"binary_crossentropy\",\n",
        "              optimizer=\"rmsprop\",\n",
        "              metrics=[\"accuracy\"])"
      ],
      "metadata": {
        "id": "Gau9XzqsQzwm"
      },
      "execution_count": null,
      "outputs": []
    },
    {
      "cell_type": "markdown",
      "source": [
        "Training the regularized convnet"
      ],
      "metadata": {
        "id": "uQ7swwaXQ4yL"
      }
    },
    {
      "cell_type": "code",
      "source": [
        "callbacks = [\n",
        "    keras.callbacks.ModelCheckpoint(\n",
        "        filepath=\"conv_from_scratch2.keras\",\n",
        "        save_best_only=True,\n",
        "        monitor=\"val_loss\")\n",
        "]\n",
        "\n",
        "history = model.fit(\n",
        "    train_dataset_2,\n",
        "    epochs=20,\n",
        "    validation_data=validation_datset,\n",
        "    callbacks=callbacks)"
      ],
      "metadata": {
        "id": "Pdl-A9X5Q-wT",
        "colab": {
          "base_uri": "https://localhost:8080/"
        },
        "outputId": "8186ff0a-7d66-46cc-fd3a-38e0a6013122"
      },
      "execution_count": null,
      "outputs": [
        {
          "output_type": "stream",
          "name": "stdout",
          "text": [
            "Epoch 1/20\n",
            "438/438 [==============================] - 25s 54ms/step - loss: 0.6954 - accuracy: 0.5421 - val_loss: 0.7436 - val_accuracy: 0.5240\n",
            "Epoch 2/20\n",
            "438/438 [==============================] - 26s 59ms/step - loss: 0.5879 - accuracy: 0.6922 - val_loss: 0.5297 - val_accuracy: 0.7560\n",
            "Epoch 3/20\n",
            "438/438 [==============================] - 29s 67ms/step - loss: 0.4926 - accuracy: 0.7676 - val_loss: 0.4792 - val_accuracy: 0.7700\n",
            "Epoch 4/20\n",
            "438/438 [==============================] - 23s 52ms/step - loss: 0.4227 - accuracy: 0.8101 - val_loss: 0.4400 - val_accuracy: 0.7940\n",
            "Epoch 5/20\n",
            "438/438 [==============================] - 25s 56ms/step - loss: 0.3610 - accuracy: 0.8407 - val_loss: 0.4546 - val_accuracy: 0.8020\n",
            "Epoch 6/20\n",
            "438/438 [==============================] - 23s 51ms/step - loss: 0.3122 - accuracy: 0.8685 - val_loss: 0.2915 - val_accuracy: 0.8770\n",
            "Epoch 7/20\n",
            "438/438 [==============================] - 22s 51ms/step - loss: 0.2650 - accuracy: 0.8896 - val_loss: 0.4001 - val_accuracy: 0.8230\n",
            "Epoch 8/20\n",
            "438/438 [==============================] - 23s 52ms/step - loss: 0.2243 - accuracy: 0.9072 - val_loss: 0.3046 - val_accuracy: 0.8870\n",
            "Epoch 9/20\n",
            "438/438 [==============================] - 25s 58ms/step - loss: 0.1903 - accuracy: 0.9237 - val_loss: 0.4764 - val_accuracy: 0.8230\n",
            "Epoch 10/20\n",
            "438/438 [==============================] - 22s 51ms/step - loss: 0.1612 - accuracy: 0.9372 - val_loss: 0.3615 - val_accuracy: 0.8810\n",
            "Epoch 11/20\n",
            "438/438 [==============================] - 25s 56ms/step - loss: 0.1389 - accuracy: 0.9459 - val_loss: 0.4245 - val_accuracy: 0.8590\n",
            "Epoch 12/20\n",
            "438/438 [==============================] - 22s 50ms/step - loss: 0.1236 - accuracy: 0.9518 - val_loss: 0.3406 - val_accuracy: 0.8860\n",
            "Epoch 13/20\n",
            "438/438 [==============================] - 23s 52ms/step - loss: 0.1112 - accuracy: 0.9588 - val_loss: 0.3176 - val_accuracy: 0.8870\n",
            "Epoch 14/20\n",
            "438/438 [==============================] - 22s 50ms/step - loss: 0.1047 - accuracy: 0.9612 - val_loss: 0.4277 - val_accuracy: 0.8930\n",
            "Epoch 15/20\n",
            "438/438 [==============================] - 22s 50ms/step - loss: 0.0978 - accuracy: 0.9650 - val_loss: 0.5801 - val_accuracy: 0.8860\n",
            "Epoch 16/20\n",
            "438/438 [==============================] - 24s 54ms/step - loss: 0.1002 - accuracy: 0.9666 - val_loss: 0.3523 - val_accuracy: 0.8980\n",
            "Epoch 17/20\n",
            "438/438 [==============================] - 22s 50ms/step - loss: 0.0946 - accuracy: 0.9684 - val_loss: 0.5883 - val_accuracy: 0.8890\n",
            "Epoch 18/20\n",
            "438/438 [==============================] - 24s 55ms/step - loss: 0.0925 - accuracy: 0.9698 - val_loss: 0.5656 - val_accuracy: 0.8840\n",
            "Epoch 19/20\n",
            "438/438 [==============================] - 22s 49ms/step - loss: 0.0928 - accuracy: 0.9702 - val_loss: 0.6549 - val_accuracy: 0.8770\n",
            "Epoch 20/20\n",
            "438/438 [==============================] - 22s 49ms/step - loss: 0.0899 - accuracy: 0.9718 - val_loss: 0.6822 - val_accuracy: 0.8880\n"
          ]
        }
      ]
    },
    {
      "cell_type": "markdown",
      "source": [
        "evaluating the model with test set"
      ],
      "metadata": {
        "id": "-YFmfnjLRD-2"
      }
    },
    {
      "cell_type": "code",
      "source": [
        "test_model = keras.models.load_model(\n",
        "    \"conv_from_scratch2.keras\")\n",
        "test_loss, test_acc = test_model.evaluate(test_datset)\n",
        "print(f\"Test accuracy: {test_acc:.3f}\")"
      ],
      "metadata": {
        "id": "wO3hLpf_RJ9Y",
        "colab": {
          "base_uri": "https://localhost:8080/"
        },
        "outputId": "98a07d50-79d1-4b83-d153-38c4a0048381"
      },
      "execution_count": null,
      "outputs": [
        {
          "output_type": "stream",
          "name": "stdout",
          "text": [
            "32/32 [==============================] - 1s 31ms/step - loss: 0.2916 - accuracy: 0.8730\n",
            "Test accuracy: 0.873\n"
          ]
        }
      ]
    },
    {
      "cell_type": "markdown",
      "source": [
        "4.Repeat Steps 1-3, but now using a pretrained network. The sample sizes you use in Steps 2 and 3 for the pretrained network may be the same or different from those using the network where you trained from scratch. Again, use any and all optimization techniques to get best performance"
      ],
      "metadata": {
        "id": "2YLlsCD3RMJm"
      }
    },
    {
      "cell_type": "markdown",
      "source": [
        "**Pre-training model--1000 training samples**\n",
        "\n",
        "Here install and freezing the VGG16 convolution base"
      ],
      "metadata": {
        "id": "WIxYzcaXRRRK"
      }
    },
    {
      "cell_type": "code",
      "source": [
        "conv_base  = keras.applications.vgg16.VGG16(\n",
        "    weights=\"imagenet\",\n",
        "    include_top=False,\n",
        "    input_shape=(180, 180, 3))"
      ],
      "metadata": {
        "id": "Pxg0DOTWRUcm",
        "colab": {
          "base_uri": "https://localhost:8080/"
        },
        "outputId": "53a67892-92e3-48fc-a8c5-86e363a510f5"
      },
      "execution_count": null,
      "outputs": [
        {
          "output_type": "stream",
          "name": "stdout",
          "text": [
            "Downloading data from https://storage.googleapis.com/tensorflow/keras-applications/vgg16/vgg16_weights_tf_dim_ordering_tf_kernels_notop.h5\n",
            "58889256/58889256 [==============================] - 0s 0us/step\n"
          ]
        }
      ]
    },
    {
      "cell_type": "markdown",
      "source": [
        "Let's get the summary of the convbase"
      ],
      "metadata": {
        "id": "Zuma_JEtR5tx"
      }
    },
    {
      "cell_type": "code",
      "source": [
        "conv_base.summary()"
      ],
      "metadata": {
        "id": "CxoQHDUSR6Yk",
        "colab": {
          "base_uri": "https://localhost:8080/"
        },
        "outputId": "db931890-4d4b-4349-d3af-09b1424e42b0"
      },
      "execution_count": null,
      "outputs": [
        {
          "output_type": "stream",
          "name": "stdout",
          "text": [
            "Model: \"vgg16\"\n",
            "_________________________________________________________________\n",
            " Layer (type)                Output Shape              Param #   \n",
            "=================================================================\n",
            " input_8 (InputLayer)        [(None, 180, 180, 3)]     0         \n",
            "                                                                 \n",
            " block1_conv1 (Conv2D)       (None, 180, 180, 64)      1792      \n",
            "                                                                 \n",
            " block1_conv2 (Conv2D)       (None, 180, 180, 64)      36928     \n",
            "                                                                 \n",
            " block1_pool (MaxPooling2D)  (None, 90, 90, 64)        0         \n",
            "                                                                 \n",
            " block2_conv1 (Conv2D)       (None, 90, 90, 128)       73856     \n",
            "                                                                 \n",
            " block2_conv2 (Conv2D)       (None, 90, 90, 128)       147584    \n",
            "                                                                 \n",
            " block2_pool (MaxPooling2D)  (None, 45, 45, 128)       0         \n",
            "                                                                 \n",
            " block3_conv1 (Conv2D)       (None, 45, 45, 256)       295168    \n",
            "                                                                 \n",
            " block3_conv2 (Conv2D)       (None, 45, 45, 256)       590080    \n",
            "                                                                 \n",
            " block3_conv3 (Conv2D)       (None, 45, 45, 256)       590080    \n",
            "                                                                 \n",
            " block3_pool (MaxPooling2D)  (None, 22, 22, 256)       0         \n",
            "                                                                 \n",
            " block4_conv1 (Conv2D)       (None, 22, 22, 512)       1180160   \n",
            "                                                                 \n",
            " block4_conv2 (Conv2D)       (None, 22, 22, 512)       2359808   \n",
            "                                                                 \n",
            " block4_conv3 (Conv2D)       (None, 22, 22, 512)       2359808   \n",
            "                                                                 \n",
            " block4_pool (MaxPooling2D)  (None, 11, 11, 512)       0         \n",
            "                                                                 \n",
            " block5_conv1 (Conv2D)       (None, 11, 11, 512)       2359808   \n",
            "                                                                 \n",
            " block5_conv2 (Conv2D)       (None, 11, 11, 512)       2359808   \n",
            "                                                                 \n",
            " block5_conv3 (Conv2D)       (None, 11, 11, 512)       2359808   \n",
            "                                                                 \n",
            " block5_pool (MaxPooling2D)  (None, 5, 5, 512)         0         \n",
            "                                                                 \n",
            "=================================================================\n",
            "Total params: 14714688 (56.13 MB)\n",
            "Trainable params: 14714688 (56.13 MB)\n",
            "Non-trainable params: 0 (0.00 Byte)\n",
            "_________________________________________________________________\n"
          ]
        }
      ]
    },
    {
      "cell_type": "markdown",
      "source": [
        "Fine-tuning a pretrained model"
      ],
      "metadata": {
        "id": "cw_5VrkuR9mP"
      }
    },
    {
      "cell_type": "code",
      "source": [
        "conv_base  = keras.applications.vgg16.VGG16(\n",
        "    weights=\"imagenet\",\n",
        "    include_top=False)"
      ],
      "metadata": {
        "id": "DPPoUHTJSCCh"
      },
      "execution_count": null,
      "outputs": []
    },
    {
      "cell_type": "markdown",
      "source": [
        "Freezing all layers except the last\n"
      ],
      "metadata": {
        "id": "WweayLxZSEfS"
      }
    },
    {
      "cell_type": "markdown",
      "source": [
        "Adding a data augmentation and a classifier to the convnet base."
      ],
      "metadata": {
        "id": "N4ZIQb5RSGSn"
      }
    },
    {
      "cell_type": "code",
      "source": [
        "data_augmentation = keras.Sequential(\n",
        "    [\n",
        "        layers.RandomFlip(\"horizontal\"),\n",
        "        layers.RandomRotation(0.3),\n",
        "        layers.RandomZoom(0.5),\n",
        "    ]\n",
        ")\n",
        "\n",
        "inputs = keras.Input(shape=(180, 180, 3))\n",
        "x = data_augmentation(inputs)\n",
        "x = layers.Rescaling(1./255)(x)\n",
        "x = layers.Conv2D(filters=32, kernel_size=3, activation=\"relu\")(x)\n",
        "x = layers.MaxPooling2D(pool_size=2)(x)\n",
        "x = layers.Conv2D(filters=64, kernel_size=3, activation=\"relu\")(x)\n",
        "x = layers.MaxPooling2D(pool_size=2)(x)\n",
        "x = layers.Conv2D(filters=128, kernel_size=3, activation=\"relu\")(x)\n",
        "x = layers.MaxPooling2D(pool_size=2)(x)\n",
        "x = layers.Conv2D(filters=256, kernel_size=3, activation=\"relu\")(x)\n",
        "x = layers.MaxPooling2D(pool_size=2)(x)\n",
        "x = layers.Conv2D(filters=256, kernel_size=3, activation=\"relu\")(x)\n",
        "x = layers.Flatten()(x)\n",
        "x = layers.Dropout(0.5)(x)\n",
        "outputs = layers.Dense(1, activation=\"sigmoid\")(x)\n",
        "model = keras.Model(inputs=inputs, outputs=outputs)\n",
        "\n",
        "model.compile(loss=\"binary_crossentropy\",optimizer=\"rmsprop\",metrics=[\"accuracy\"])"
      ],
      "metadata": {
        "id": "wnKU7xTXSJe8"
      },
      "execution_count": null,
      "outputs": []
    },
    {
      "cell_type": "markdown",
      "source": [
        "Training the regularized convnet"
      ],
      "metadata": {
        "id": "OH30Wy1WSMYt"
      }
    },
    {
      "cell_type": "code",
      "source": [
        "callbacks = [\n",
        "    keras.callbacks.ModelCheckpoint(\n",
        "        filepath=\"convnet_from_scratch_augmentation.keras\",\n",
        "        save_best_only=True,\n",
        "        monitor=\"val_loss\")\n",
        "]\n",
        "history = model.fit(\n",
        "   train_datset,\n",
        "   epochs=50,\n",
        "   validation_data=validation_datset,\n",
        "   callbacks=callbacks)"
      ],
      "metadata": {
        "id": "3FX4jAlpSSoe",
        "colab": {
          "base_uri": "https://localhost:8080/"
        },
        "outputId": "dbc4c930-6ab5-4422-d6b5-1620b3e8e09f"
      },
      "execution_count": null,
      "outputs": [
        {
          "output_type": "stream",
          "name": "stdout",
          "text": [
            "Epoch 1/50\n",
            "63/63 [==============================] - 7s 68ms/step - loss: 0.7011 - accuracy: 0.4860 - val_loss: 0.6929 - val_accuracy: 0.5000\n",
            "Epoch 2/50\n",
            "63/63 [==============================] - 4s 60ms/step - loss: 0.6943 - accuracy: 0.5005 - val_loss: 0.6928 - val_accuracy: 0.5030\n",
            "Epoch 3/50\n",
            "63/63 [==============================] - 6s 94ms/step - loss: 0.6948 - accuracy: 0.5160 - val_loss: 0.6916 - val_accuracy: 0.5080\n",
            "Epoch 4/50\n",
            "63/63 [==============================] - 5s 70ms/step - loss: 0.6957 - accuracy: 0.5230 - val_loss: 0.6867 - val_accuracy: 0.5450\n",
            "Epoch 5/50\n",
            "63/63 [==============================] - 4s 61ms/step - loss: 0.6846 - accuracy: 0.5845 - val_loss: 0.7106 - val_accuracy: 0.5040\n",
            "Epoch 6/50\n",
            "63/63 [==============================] - 4s 62ms/step - loss: 0.6762 - accuracy: 0.5845 - val_loss: 0.7215 - val_accuracy: 0.5690\n",
            "Epoch 7/50\n",
            "63/63 [==============================] - 7s 98ms/step - loss: 0.6655 - accuracy: 0.6050 - val_loss: 0.6518 - val_accuracy: 0.6520\n",
            "Epoch 8/50\n",
            "63/63 [==============================] - 4s 60ms/step - loss: 0.6900 - accuracy: 0.6235 - val_loss: 0.6275 - val_accuracy: 0.6480\n",
            "Epoch 9/50\n",
            "63/63 [==============================] - 4s 60ms/step - loss: 0.6287 - accuracy: 0.6285 - val_loss: 0.6347 - val_accuracy: 0.6720\n",
            "Epoch 10/50\n",
            "63/63 [==============================] - 5s 78ms/step - loss: 0.6394 - accuracy: 0.6360 - val_loss: 0.6503 - val_accuracy: 0.6250\n",
            "Epoch 11/50\n",
            "63/63 [==============================] - 6s 81ms/step - loss: 0.6430 - accuracy: 0.6245 - val_loss: 0.6832 - val_accuracy: 0.5170\n",
            "Epoch 12/50\n",
            "63/63 [==============================] - 4s 58ms/step - loss: 0.6462 - accuracy: 0.6315 - val_loss: 0.6115 - val_accuracy: 0.6770\n",
            "Epoch 13/50\n",
            "63/63 [==============================] - 4s 60ms/step - loss: 0.6252 - accuracy: 0.6485 - val_loss: 0.6279 - val_accuracy: 0.6470\n",
            "Epoch 14/50\n",
            "63/63 [==============================] - 6s 91ms/step - loss: 0.6312 - accuracy: 0.6390 - val_loss: 0.6399 - val_accuracy: 0.6200\n",
            "Epoch 15/50\n",
            "63/63 [==============================] - 4s 58ms/step - loss: 0.6255 - accuracy: 0.6380 - val_loss: 0.6081 - val_accuracy: 0.6890\n",
            "Epoch 16/50\n",
            "63/63 [==============================] - 4s 59ms/step - loss: 0.6264 - accuracy: 0.6530 - val_loss: 0.6029 - val_accuracy: 0.6750\n",
            "Epoch 17/50\n",
            "63/63 [==============================] - 7s 111ms/step - loss: 0.6205 - accuracy: 0.6625 - val_loss: 0.6385 - val_accuracy: 0.6250\n",
            "Epoch 18/50\n",
            "63/63 [==============================] - 4s 57ms/step - loss: 0.6126 - accuracy: 0.6530 - val_loss: 0.5956 - val_accuracy: 0.6920\n",
            "Epoch 19/50\n",
            "63/63 [==============================] - 4s 57ms/step - loss: 0.6082 - accuracy: 0.6580 - val_loss: 0.5826 - val_accuracy: 0.7080\n",
            "Epoch 20/50\n",
            "63/63 [==============================] - 5s 71ms/step - loss: 0.6088 - accuracy: 0.6705 - val_loss: 0.5957 - val_accuracy: 0.7040\n",
            "Epoch 21/50\n",
            "63/63 [==============================] - 5s 80ms/step - loss: 0.6039 - accuracy: 0.6800 - val_loss: 0.6090 - val_accuracy: 0.6780\n",
            "Epoch 22/50\n",
            "63/63 [==============================] - 4s 61ms/step - loss: 0.6080 - accuracy: 0.6680 - val_loss: 0.5910 - val_accuracy: 0.6810\n",
            "Epoch 23/50\n",
            "63/63 [==============================] - 6s 89ms/step - loss: 0.5986 - accuracy: 0.6815 - val_loss: 0.5770 - val_accuracy: 0.7080\n",
            "Epoch 24/50\n",
            "63/63 [==============================] - 4s 56ms/step - loss: 0.6026 - accuracy: 0.6720 - val_loss: 0.5993 - val_accuracy: 0.6730\n",
            "Epoch 25/50\n",
            "63/63 [==============================] - 4s 57ms/step - loss: 0.5843 - accuracy: 0.6810 - val_loss: 0.6718 - val_accuracy: 0.6190\n",
            "Epoch 26/50\n",
            "63/63 [==============================] - 6s 87ms/step - loss: 0.5859 - accuracy: 0.6845 - val_loss: 0.5662 - val_accuracy: 0.7320\n",
            "Epoch 27/50\n",
            "63/63 [==============================] - 5s 74ms/step - loss: 0.5837 - accuracy: 0.6845 - val_loss: 0.6239 - val_accuracy: 0.6640\n",
            "Epoch 28/50\n",
            "63/63 [==============================] - 4s 57ms/step - loss: 0.5861 - accuracy: 0.6880 - val_loss: 0.6243 - val_accuracy: 0.6530\n",
            "Epoch 29/50\n",
            "63/63 [==============================] - 4s 60ms/step - loss: 0.5863 - accuracy: 0.6940 - val_loss: 0.6229 - val_accuracy: 0.6820\n",
            "Epoch 30/50\n",
            "63/63 [==============================] - 7s 107ms/step - loss: 0.5868 - accuracy: 0.6845 - val_loss: 0.5698 - val_accuracy: 0.7180\n",
            "Epoch 31/50\n",
            "63/63 [==============================] - 4s 60ms/step - loss: 0.5829 - accuracy: 0.6960 - val_loss: 0.5786 - val_accuracy: 0.6950\n",
            "Epoch 32/50\n",
            "63/63 [==============================] - 4s 58ms/step - loss: 0.5772 - accuracy: 0.6915 - val_loss: 0.6261 - val_accuracy: 0.6550\n",
            "Epoch 33/50\n",
            "63/63 [==============================] - 6s 94ms/step - loss: 0.5705 - accuracy: 0.6985 - val_loss: 0.5872 - val_accuracy: 0.6970\n",
            "Epoch 34/50\n",
            "63/63 [==============================] - 5s 67ms/step - loss: 0.5861 - accuracy: 0.6870 - val_loss: 0.5748 - val_accuracy: 0.7040\n",
            "Epoch 35/50\n",
            "63/63 [==============================] - 4s 61ms/step - loss: 0.5724 - accuracy: 0.6985 - val_loss: 0.5538 - val_accuracy: 0.7290\n",
            "Epoch 36/50\n",
            "63/63 [==============================] - 5s 84ms/step - loss: 0.5685 - accuracy: 0.7025 - val_loss: 0.5744 - val_accuracy: 0.7030\n",
            "Epoch 37/50\n",
            "63/63 [==============================] - 6s 82ms/step - loss: 0.5698 - accuracy: 0.7110 - val_loss: 0.5814 - val_accuracy: 0.6860\n",
            "Epoch 38/50\n",
            "63/63 [==============================] - 4s 59ms/step - loss: 0.5787 - accuracy: 0.6960 - val_loss: 0.5577 - val_accuracy: 0.7160\n",
            "Epoch 39/50\n",
            "63/63 [==============================] - 4s 59ms/step - loss: 0.5640 - accuracy: 0.7115 - val_loss: 0.5778 - val_accuracy: 0.7060\n",
            "Epoch 40/50\n",
            "63/63 [==============================] - 7s 101ms/step - loss: 0.5578 - accuracy: 0.7165 - val_loss: 0.5721 - val_accuracy: 0.7040\n",
            "Epoch 41/50\n",
            "63/63 [==============================] - 4s 61ms/step - loss: 0.5525 - accuracy: 0.7145 - val_loss: 0.5483 - val_accuracy: 0.7050\n",
            "Epoch 42/50\n",
            "63/63 [==============================] - 4s 59ms/step - loss: 0.5574 - accuracy: 0.7215 - val_loss: 0.5526 - val_accuracy: 0.7330\n",
            "Epoch 43/50\n",
            "63/63 [==============================] - 5s 71ms/step - loss: 0.5681 - accuracy: 0.7035 - val_loss: 0.5617 - val_accuracy: 0.7310\n",
            "Epoch 44/50\n",
            "63/63 [==============================] - 6s 85ms/step - loss: 0.5486 - accuracy: 0.7190 - val_loss: 0.6529 - val_accuracy: 0.6880\n",
            "Epoch 45/50\n",
            "63/63 [==============================] - 4s 59ms/step - loss: 0.5600 - accuracy: 0.7165 - val_loss: 0.5997 - val_accuracy: 0.7150\n",
            "Epoch 46/50\n",
            "63/63 [==============================] - 4s 59ms/step - loss: 0.5536 - accuracy: 0.7155 - val_loss: 0.5378 - val_accuracy: 0.7420\n",
            "Epoch 47/50\n",
            "63/63 [==============================] - 7s 111ms/step - loss: 0.5464 - accuracy: 0.7240 - val_loss: 0.5575 - val_accuracy: 0.7010\n",
            "Epoch 48/50\n",
            "63/63 [==============================] - 4s 59ms/step - loss: 0.5602 - accuracy: 0.7125 - val_loss: 0.6616 - val_accuracy: 0.6670\n",
            "Epoch 49/50\n",
            "63/63 [==============================] - 4s 58ms/step - loss: 0.5606 - accuracy: 0.7010 - val_loss: 0.5458 - val_accuracy: 0.7250\n",
            "Epoch 50/50\n",
            "63/63 [==============================] - 6s 89ms/step - loss: 0.5349 - accuracy: 0.7275 - val_loss: 0.5900 - val_accuracy: 0.6790\n"
          ]
        }
      ]
    },
    {
      "cell_type": "markdown",
      "source": [
        "Plotting the curves for loss and accuracy during training"
      ],
      "metadata": {
        "id": "sbFg69mRSYQY"
      }
    },
    {
      "cell_type": "code",
      "source": [
        "import matplotlib.pyplot as plt\n",
        "accuracy = history.history[\"accuracy\"]\n",
        "val_accuracy = history.history[\"val_accuracy\"]\n",
        "loss = history.history[\"loss\"]\n",
        "val_loss = history.history[\"val_loss\"]\n",
        "epochs = range(1, len(accuracy) + 1)\n",
        "plt.plot(epochs, accuracy, \"bo\", label=\"Training accuracy\")\n",
        "plt.plot(epochs, val_accuracy, \"b\", label=\"Validation accuracy\")\n",
        "plt.title(\"Training and validation accuracy with Data Augmentation\")\n",
        "plt.legend()\n",
        "plt.figure()\n",
        "plt.plot(epochs, loss, \"bo\", label=\"Training loss\")\n",
        "plt.plot(epochs, val_loss, \"b\", label=\"Validation loss\")\n",
        "plt.title(\"Training and validation loss with Data Augmentation\")\n",
        "plt.legend()\n",
        "plt.show()"
      ],
      "metadata": {
        "id": "gpcybzIaSY3s"
      },
      "execution_count": null,
      "outputs": []
    },
    {
      "cell_type": "markdown",
      "source": [
        "Evaluating the model on the test set"
      ],
      "metadata": {
        "id": "N3oQv72YSeN0"
      }
    },
    {
      "cell_type": "code",
      "source": [
        "test_model5 = keras.models.load_model(\"convnet_from_scratch_augmentation.keras\")\n",
        "test_loss, test_acc = test_model5.evaluate(test_datset)\n",
        "print(f\"Test accuracy: {test_acc:.3f}\")"
      ],
      "metadata": {
        "id": "uQksUDD5Se2x"
      },
      "execution_count": null,
      "outputs": []
    },
    {
      "cell_type": "markdown",
      "source": [
        "Leveraging a Pretrained model"
      ],
      "metadata": {
        "id": "gdXGpxIaSpbO"
      }
    },
    {
      "cell_type": "code",
      "source": [
        "conv_base = keras.applications.vgg16.VGG16(\n",
        "    weights=\"imagenet\",\n",
        "    include_top=False,\n",
        "    input_shape=(180, 180, 3))\n",
        "conv_base.summary()"
      ],
      "metadata": {
        "id": "zzXlQoBuSr9N"
      },
      "execution_count": null,
      "outputs": []
    },
    {
      "cell_type": "markdown",
      "source": [
        "Extracting the VGG16 features and corresponding labels by calling predict() method of the convolution base without Data Augmentation"
      ],
      "metadata": {
        "id": "QxeIYc1-SuxI"
      }
    },
    {
      "cell_type": "code",
      "source": [
        "import numpy as np\n",
        "def get_features_and_labels(dataset):\n",
        "    all_features = []\n",
        "    all_labels = []\n",
        "    for images, labels in dataset:\n",
        "        preprocessed_images = keras.applications.vgg16.preprocess_input(images)\n",
        "        features = conv_base.predict(preprocessed_images)\n",
        "        all_features.append(features)\n",
        "        all_labels.append(labels)\n",
        "    return np.concatenate(all_features), np.concatenate(all_labels)\n",
        "\n",
        "train_features, train_labels = get_features_and_labels(train_datset)\n",
        "val_features, val_labels = get_features_and_labels(validation_datset)\n",
        "test_features, test_labels = get_features_and_labels(test_datset)"
      ],
      "metadata": {
        "id": "werrpVPKSvfU"
      },
      "execution_count": null,
      "outputs": []
    },
    {
      "cell_type": "markdown",
      "source": [
        "Defining and training the densely connected classifier"
      ],
      "metadata": {
        "id": "ova1JOpmS1Hy"
      }
    },
    {
      "cell_type": "code",
      "source": [
        "inputs = keras.Input(shape=(5, 5, 512))\n",
        "x = layers.Flatten()(inputs)\n",
        "x = layers.Dense(256)(x)\n",
        "x = layers.Dropout(0.5)(x)\n",
        "outputs = layers.Dense(1, activation=\"sigmoid\")(x)\n",
        "model = keras.Model(inputs, outputs)\n",
        "\n",
        "model.compile(loss=\"binary_crossentropy\", optimizer=\"rmsprop\", metrics=[\"accuracy\"])"
      ],
      "metadata": {
        "id": "YV775C84S1mt"
      },
      "execution_count": null,
      "outputs": []
    },
    {
      "cell_type": "code",
      "source": [
        "callbacks = [\n",
        " keras.callbacks.ModelCheckpoint(\n",
        " filepath=\"feature_extraction.keras\",\n",
        " save_best_only=True,\n",
        " monitor=\"val_loss\")\n",
        "]\n",
        "history = model.fit(\n",
        " train_features, train_labels,\n",
        " epochs=20,\n",
        " validation_data=(val_features, val_labels),\n",
        " callbacks=callbacks)"
      ],
      "metadata": {
        "id": "UuvQqR-_S4Yv"
      },
      "execution_count": null,
      "outputs": []
    },
    {
      "cell_type": "markdown",
      "source": [
        "Plotting the results"
      ],
      "metadata": {
        "id": "eIJkD9jrS9H2"
      }
    },
    {
      "cell_type": "code",
      "source": [
        "import matplotlib.pyplot as plt\n",
        "acc = history.history[\"accuracy\"]\n",
        "val_acc = history.history[\"val_accuracy\"]\n",
        "loss = history.history[\"loss\"]\n",
        "val_loss = history.history[\"val_loss\"]\n",
        "epochs = range(1, len(acc) + 1)\n",
        "plt.plot(epochs, acc, \"bo\", label=\"Training accuracy\")\n",
        "plt.plot(epochs, val_acc, \"b\", label=\"Validation accuracy\")\n",
        "plt.title(\"Training and validation accuracy for Feature extraction\")\n",
        "plt.legend()\n",
        "plt.figure()\n",
        "plt.plot(epochs, loss, \"bo\", label=\"Training loss\")\n",
        "plt.plot(epochs, val_loss, \"b\", label=\"Validation loss\")\n",
        "plt.title(\"Training and validation loss for feature extraction\")\n",
        "plt.legend()\n",
        "plt.show()"
      ],
      "metadata": {
        "id": "XONKjCUUS96A",
        "colab": {
          "base_uri": "https://localhost:8080/",
          "height": 887
        },
        "outputId": "421bac73-9e78-4397-83a3-790791a2839b"
      },
      "execution_count": null,
      "outputs": [
        {
          "output_type": "display_data",
          "data": {
            "text/plain": [
              "<Figure size 640x480 with 1 Axes>"
            ],
            "image/png": "[encoded data removed]"
          },
          "metadata": {}
        },
        {
          "output_type": "display_data",
          "data": {
            "text/plain": [
              "<Figure size 640x480 with 1 Axes>"
            ],
            "image/png": "[encoded data removed]"
          },
          "metadata": {}
        }
      ]
    },
    {
      "cell_type": "markdown",
      "source": [
        "Feature extraction with data augmentation"
      ],
      "metadata": {
        "id": "KVR2SjWhTCUo"
      }
    },
    {
      "cell_type": "code",
      "source": [
        "conv_base = keras.applications.vgg16.VGG16(weights=\"imagenet\",include_top=False)\n",
        "conv_base.trainable = False"
      ],
      "metadata": {
        "id": "Pzue5OeyTEn1"
      },
      "execution_count": null,
      "outputs": []
    },
    {
      "cell_type": "code",
      "source": [
        "conv_base.summary()"
      ],
      "metadata": {
        "id": "4EzKGiCsTHhP"
      },
      "execution_count": null,
      "outputs": []
    },
    {
      "cell_type": "markdown",
      "source": [
        "Freezing all layers"
      ],
      "metadata": {
        "id": "RvIdZiv0TLeV"
      }
    },
    {
      "cell_type": "code",
      "source": [
        "conv_base.trainable = True\n",
        "for layer in conv_base.layers[:-4]:\n",
        " layer.trainable = False"
      ],
      "metadata": {
        "id": "x_5EffGcTN3q"
      },
      "execution_count": null,
      "outputs": []
    },
    {
      "cell_type": "markdown",
      "source": [
        "Fine tuning a model"
      ],
      "metadata": {
        "id": "ZkF_cOpvTUmy"
      }
    },
    {
      "cell_type": "code",
      "source": [
        "data_augmentation = keras.Sequential(\n",
        "    [\n",
        "        layers.RandomFlip(\"horizontal\"),\n",
        "        layers.RandomRotation(0.3),\n",
        "        layers.RandomZoom(0.5),\n",
        "    ]\n",
        ")\n",
        "\n",
        "inputs = keras.Input(shape=(180, 180, 3))\n",
        "x = data_augmentation(inputs)\n",
        "x = keras.layers.Lambda(lambda x: keras.applications.vgg16.preprocess_input(x))(x)\n",
        "conv_base = keras.applications.VGG16(weights=\"imagenet\", include_top=False, input_shape=(180, 180, 3))\n",
        "x = conv_base(x)\n",
        "x = layers.Flatten()(x)\n",
        "x = layers.Dense(256)(x)\n",
        "x = layers.Dropout(0.5)(x)\n",
        "outputs = layers.Dense(1, activation=\"sigmoid\")(x)\n",
        "model = keras.Model(inputs, outputs)\n",
        "model.compile(loss=\"binary_crossentropy\",\n",
        "              optimizer=keras.optimizers.RMSprop(learning_rate=1e-5),\n",
        "              metrics=[\"accuracy\"])"
      ],
      "metadata": {
        "id": "bGEU6rVMTR8q"
      },
      "execution_count": null,
      "outputs": []
    },
    {
      "cell_type": "markdown",
      "source": [
        "Training the regularized network"
      ],
      "metadata": {
        "id": "Q7ocS5okTbD_"
      }
    },
    {
      "cell_type": "code",
      "source": [
        "callbacks = [\n",
        " keras.callbacks.ModelCheckpoint(\n",
        " filepath=\"fine_tuning.keras\",\n",
        " save_best_only=True,\n",
        " monitor=\"val_loss\")\n",
        "]\n",
        "history = model.fit(\n",
        " train_datset,\n",
        " epochs=20,\n",
        " validation_data=validation_datset,\n",
        " callbacks=callbacks)"
      ],
      "metadata": {
        "id": "yC84Wa7rTe8D",
        "colab": {
          "base_uri": "https://localhost:8080/"
        },
        "outputId": "c8586a0a-08e4-4f75-e870-923c2b22a0a8"
      },
      "execution_count": null,
      "outputs": [
        {
          "output_type": "stream",
          "name": "stdout",
          "text": [
            "Epoch 1/20\n",
            "63/63 [==============================] - 41s 453ms/step - loss: 2.3936 - accuracy: 0.5970 - val_loss: 0.5101 - val_accuracy: 0.7740\n",
            "Epoch 2/20\n",
            "63/63 [==============================] - 23s 357ms/step - loss: 0.6690 - accuracy: 0.6635 - val_loss: 0.2966 - val_accuracy: 0.8620\n",
            "Epoch 3/20\n",
            "63/63 [==============================] - 23s 358ms/step - loss: 0.5144 - accuracy: 0.7465 - val_loss: 0.2505 - val_accuracy: 0.8890\n",
            "Epoch 4/20\n",
            "63/63 [==============================] - 23s 361ms/step - loss: 0.4001 - accuracy: 0.8105 - val_loss: 0.1462 - val_accuracy: 0.9430\n",
            "Epoch 5/20\n",
            "63/63 [==============================] - 22s 345ms/step - loss: 0.3500 - accuracy: 0.8350 - val_loss: 0.2113 - val_accuracy: 0.9370\n",
            "Epoch 6/20\n",
            "63/63 [==============================] - 23s 367ms/step - loss: 0.2978 - accuracy: 0.8595 - val_loss: 0.1065 - val_accuracy: 0.9580\n",
            "Epoch 7/20\n",
            "63/63 [==============================] - 23s 357ms/step - loss: 0.2683 - accuracy: 0.8730 - val_loss: 0.1021 - val_accuracy: 0.9640\n",
            "Epoch 8/20\n",
            "63/63 [==============================] - 22s 349ms/step - loss: 0.2318 - accuracy: 0.8975 - val_loss: 0.1425 - val_accuracy: 0.9570\n",
            "Epoch 9/20\n",
            "63/63 [==============================] - 23s 364ms/step - loss: 0.2081 - accuracy: 0.9090 - val_loss: 0.0993 - val_accuracy: 0.9640\n",
            "Epoch 10/20\n",
            "63/63 [==============================] - 23s 355ms/step - loss: 0.2194 - accuracy: 0.9165 - val_loss: 0.0929 - val_accuracy: 0.9670\n",
            "Epoch 11/20\n",
            "63/63 [==============================] - 23s 360ms/step - loss: 0.1810 - accuracy: 0.9270 - val_loss: 0.0837 - val_accuracy: 0.9800\n",
            "Epoch 12/20\n",
            "63/63 [==============================] - 22s 349ms/step - loss: 0.1828 - accuracy: 0.9280 - val_loss: 0.0839 - val_accuracy: 0.9680\n",
            "Epoch 13/20\n",
            "63/63 [==============================] - 24s 382ms/step - loss: 0.1602 - accuracy: 0.9350 - val_loss: 0.0896 - val_accuracy: 0.9700\n",
            "Epoch 14/20\n",
            "63/63 [==============================] - 22s 342ms/step - loss: 0.1623 - accuracy: 0.9350 - val_loss: 0.1312 - val_accuracy: 0.9600\n",
            "Epoch 15/20\n",
            "63/63 [==============================] - 23s 356ms/step - loss: 0.1431 - accuracy: 0.9470 - val_loss: 0.0668 - val_accuracy: 0.9700\n",
            "Epoch 16/20\n",
            "63/63 [==============================] - 21s 337ms/step - loss: 0.1562 - accuracy: 0.9335 - val_loss: 0.0723 - val_accuracy: 0.9770\n",
            "Epoch 17/20\n",
            "63/63 [==============================] - 24s 373ms/step - loss: 0.1458 - accuracy: 0.9395 - val_loss: 0.2243 - val_accuracy: 0.9460\n",
            "Epoch 18/20\n",
            "63/63 [==============================] - 21s 334ms/step - loss: 0.1056 - accuracy: 0.9530 - val_loss: 0.0687 - val_accuracy: 0.9780\n",
            "Epoch 19/20\n",
            "63/63 [==============================] - 21s 335ms/step - loss: 0.1084 - accuracy: 0.9575 - val_loss: 0.1144 - val_accuracy: 0.9700\n",
            "Epoch 20/20\n",
            "63/63 [==============================] - 22s 340ms/step - loss: 0.1124 - accuracy: 0.9595 - val_loss: 0.1622 - val_accuracy: 0.9680\n"
          ]
        }
      ]
    },
    {
      "cell_type": "markdown",
      "source": [
        "Plotting the curves of loss and accuracy during training for fine-tuning model"
      ],
      "metadata": {
        "id": "MnM2l89kTjEI"
      }
    },
    {
      "cell_type": "code",
      "source": [
        "import matplotlib.pyplot as plt\n",
        "accuracy = history.history[\"accuracy\"]\n",
        "val_accuracy = history.history[\"val_accuracy\"]\n",
        "loss = history.history[\"loss\"]\n",
        "val_loss = history.history[\"val_loss\"]\n",
        "epochs = range(1, len(accuracy) + 1)\n",
        "plt.plot(epochs, accuracy, \"bo\", label=\"Training accuracy\")\n",
        "plt.plot(epochs, val_accuracy, \"b\", label=\"Validation accuracy\")\n",
        "plt.title(\"Training and validation accuracy\")\n",
        "plt.legend()\n",
        "plt.figure()\n",
        "plt.plot(epochs, loss, \"bo\", label=\"Training loss\")\n",
        "plt.plot(epochs, val_loss, \"b\", label=\"Validation loss\")\n",
        "plt.title(\"Training and validation loss\")\n",
        "plt.legend()\n",
        "plt.show()"
      ],
      "metadata": {
        "id": "-hXmL45OTjnG"
      },
      "execution_count": null,
      "outputs": []
    },
    {
      "cell_type": "markdown",
      "source": [
        "Evaluating the test set for fine-tuning"
      ],
      "metadata": {
        "id": "LeF3cu3OTmBi"
      }
    },
    {
      "cell_type": "code",
      "source": [
        "model = keras.models.load_model(\"fine_tuning.keras\")\n",
        "test_loss, test_acc = model.evaluate(test_datset)\n",
        "print(f\"Test accuracy: {test_acc:.3f}\")"
      ],
      "metadata": {
        "id": "yBss0eclToRg"
      },
      "execution_count": null,
      "outputs": []
    },
    {
      "cell_type": "markdown",
      "source": [
        "Pre-trianed model-5000 Training samples\n",
        "\n",
        "same as we did above by installing and freezing the VGG16 conv base."
      ],
      "metadata": {
        "id": "guHamjn7TrvW"
      }
    },
    {
      "cell_type": "code",
      "source": [
        "conv_base  = keras.applications.vgg16.VGG16(\n",
        "    weights=\"imagenet\",\n",
        "    include_top=False,\n",
        "    input_shape=(180, 180, 3))"
      ],
      "metadata": {
        "id": "vOVMFQ3eTt89"
      },
      "execution_count": null,
      "outputs": []
    },
    {
      "cell_type": "markdown",
      "source": [
        "Fine tuning the pretrained model by freezing the layers"
      ],
      "metadata": {
        "id": "GDVqjB_KTwll"
      }
    },
    {
      "cell_type": "code",
      "source": [
        "conv_base  = keras.applications.vgg16.VGG16(\n",
        "    weights=\"imagenet\",\n",
        "    include_top=False)\n",
        "\n",
        "conv_base.trainable = True\n",
        "for layer in conv_base.layers[:-4]:\n",
        "    layer.trainable = False"
      ],
      "metadata": {
        "id": "TxUNyYKjTy6i"
      },
      "execution_count": null,
      "outputs": []
    },
    {
      "cell_type": "markdown",
      "source": [
        "By adding of augmentation and classifier to conv base"
      ],
      "metadata": {
        "id": "V2Q-6GGZT2JZ"
      }
    },
    {
      "cell_type": "code",
      "source": [
        "data_augmentation = keras.Sequential(\n",
        "    [\n",
        "        layers.RandomFlip(\"horizontal\"),\n",
        "        layers.RandomRotation(0.1),\n",
        "        layers.RandomZoom(0.2),\n",
        "    ]\n",
        ")\n",
        "\n",
        "inputs = keras.Input(shape=(180, 180, 3))\n",
        "x = data_augmentation(inputs)\n",
        "x = keras.applications.vgg16.preprocess_input(x)\n",
        "x = conv_base(x)\n",
        "x = layers.Flatten()(x)\n",
        "x = layers.Dense(256)(x)\n",
        "x = layers.Dropout(0.5)(x)\n",
        "outputs = layers.Dense(1, activation=\"sigmoid\")(x)\n",
        "model = keras.Model(inputs, outputs)\n",
        "model.compile(loss=\"binary_crossentropy\",\n",
        "              optimizer=keras.optimizers.RMSprop(learning_rate=1e-5),\n",
        "              metrics=[\"accuracy\"])\n",
        "\n",
        "callbacks = [\n",
        "    keras.callbacks.ModelCheckpoint(\n",
        "        filepath=\"fine_tuning2.keras\",\n",
        "        save_best_only=True,\n",
        "        monitor=\"val_loss\")\n",
        "]\n",
        "history = model.fit(\n",
        "    train_dataset_2,\n",
        "    epochs=10,\n",
        "    validation_data=validation_datset,\n",
        "    callbacks=callbacks)"
      ],
      "metadata": {
        "id": "ja_fOy1hT2yT"
      },
      "execution_count": null,
      "outputs": []
    },
    {
      "cell_type": "markdown",
      "source": [
        "evaluating the model with test set"
      ],
      "metadata": {
        "id": "DYe3Z3T7T648"
      }
    },
    {
      "cell_type": "code",
      "source": [
        "model = keras.models.load_model(\"fine_tuning2.keras\")\n",
        "test_loss, test_acc = model.evaluate(test_datset)\n",
        "print(f\"Test accuracy: {test_acc:.3f}\")"
      ],
      "metadata": {
        "id": "PgEzN-nbT9Dl"
      },
      "execution_count": null,
      "outputs": []
    },
    {
      "cell_type": "markdown",
      "source": [
        "Pre-trained model with 10000 samples by install and freezing the VGG16 comv base"
      ],
      "metadata": {
        "id": "GZFGR7G2T_SB"
      }
    },
    {
      "cell_type": "code",
      "source": [
        "conv_base  = keras.applications.vgg16.VGG16(\n",
        "    weights=\"imagenet\",\n",
        "    include_top=False,\n",
        "    input_shape=(180, 180, 3))"
      ],
      "metadata": {
        "id": "u75fYHWJUBp5"
      },
      "execution_count": null,
      "outputs": []
    },
    {
      "cell_type": "markdown",
      "source": [
        "Fine tuning the pretrained model and freezing the layers except last one"
      ],
      "metadata": {
        "id": "mWmoOmyRUDxr"
      }
    },
    {
      "cell_type": "code",
      "source": [
        "conv_base  = keras.applications.vgg16.VGG16(\n",
        "    weights=\"imagenet\",\n",
        "    include_top=False)\n",
        "\n",
        "conv_base.trainable = True\n",
        "for layer in conv_base.layers[:-4]:\n",
        "    layer.trainable = False"
      ],
      "metadata": {
        "id": "hLnUBlebUHXz"
      },
      "execution_count": null,
      "outputs": []
    },
    {
      "cell_type": "markdown",
      "source": [
        "By adding augmentation and classifier to the conv base"
      ],
      "metadata": {
        "id": "if8EC_ipUJiw"
      }
    },
    {
      "cell_type": "code",
      "source": [
        "data_augmentation = keras.Sequential(\n",
        "    [\n",
        "        layers.RandomFlip(\"horizontal\"),\n",
        "        layers.RandomRotation(0.1),\n",
        "        layers.RandomZoom(0.2),\n",
        "    ]\n",
        ")\n",
        "\n",
        "inputs = keras.Input(shape=(180, 180, 3))\n",
        "x = data_augmentation(inputs)\n",
        "x = keras.applications.vgg16.preprocess_input(x)\n",
        "x = conv_base(x)\n",
        "x = layers.Flatten()(x)\n",
        "x = layers.Dense(256)(x)\n",
        "x = layers.Dropout(0.5)(x)\n",
        "outputs = layers.Dense(1, activation=\"sigmoid\")(x)\n",
        "model = keras.Model(inputs, outputs)\n",
        "model.compile(loss=\"binary_crossentropy\",\n",
        "              optimizer=keras.optimizers.RMSprop(learning_rate=1e-5),\n",
        "              metrics=[\"accuracy\"])\n",
        "\n",
        "callbacks = [\n",
        "    keras.callbacks.ModelCheckpoint(\n",
        "        filepath=\"fine_tuning3.keras\",\n",
        "        save_best_only=True,\n",
        "        monitor=\"val_loss\")\n",
        "]\n",
        "history = model.fit(\n",
        "    train_dataset2,\n",
        "    epochs=30,\n",
        "    validation_data=validation_datset,\n",
        "    callbacks=callbacks)"
      ],
      "metadata": {
        "id": "SfROC6aoUMFK"
      },
      "execution_count": null,
      "outputs": []
    },
    {
      "cell_type": "markdown",
      "source": [
        "Plotting the curves for loss and accuracy during training for fine tuning with 10000 samples"
      ],
      "metadata": {
        "id": "CAkzo70yURyE"
      }
    },
    {
      "cell_type": "code",
      "source": [
        "import matplotlib.pyplot as plt\n",
        "accuracy = history.history[\"accuracy\"]\n",
        "val_accuracy = history.history[\"val_accuracy\"]\n",
        "loss = history.history[\"loss\"]\n",
        "val_loss = history.history[\"val_loss\"]\n",
        "epochs = range(1, len(accuracy) + 1)\n",
        "plt.plot(epochs, accuracy, \"bo\", label=\"Training accuracy\")\n",
        "plt.plot(epochs, val_accuracy, \"b\", label=\"Validation accuracy\")\n",
        "plt.title(\"Training and validation accuracy\")\n",
        "plt.legend()\n",
        "plt.figure()\n",
        "plt.plot(epochs, loss, \"bo\", label=\"Training loss\")\n",
        "plt.plot(epochs, val_loss, \"b\", label=\"Validation loss\")\n",
        "plt.title(\"Training and validation loss\")\n",
        "plt.legend()\n",
        "plt.show()"
      ],
      "metadata": {
        "id": "PIGuC86NUScR"
      },
      "execution_count": null,
      "outputs": []
    },
    {
      "cell_type": "markdown",
      "source": [
        "Evaluating the model with test set"
      ],
      "metadata": {
        "id": "TvEVNQsmUWen"
      }
    },
    {
      "cell_type": "code",
      "source": [
        "model = keras.models.load_model(\"fine_tuning3.keras\")\n",
        "test_loss, test_acc = model.evaluate(test_datset)\n",
        "print(f\"Test accuracy: {test_acc:.3f}\")"
      ],
      "metadata": {
        "id": "Csg42HaRUXDH"
      },
      "execution_count": null,
      "outputs": []
    },
    {
      "cell_type": "markdown",
      "source": [
        "**Summary:**\n",
        "\n",
        "1.Consider the Cats & Dogs example. Start initially with a training sample of 1000, a validation sample of 500, and a test sample of 500 (like in the text). Use any technique to reduce overfitting and improve performance in developing a network that you train from scratch. What performance did you achieve?\n",
        "\n",
        "![img 1.png](data:image/png;base64,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)![img 2.png](data:image/png;base64,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)\n",
        "\n",
        "**Observations:**\n",
        "\n",
        "• The graphs shown above are examples of overfitting. Whereas validation accuracy only reaches 70–72%, training accuracy rises linearly over time to almost 100%.\n",
        "• Our primary problem will be overfitting because there aren't many training data. A number of strategies, including dropout, regularization, and data augmentation, can be used to lessen overfitting.\n",
        "\n",
        "I have used three techniques to improve the performance of the model and evaluated all those three on test dataset on 100 epochs.\n",
        "\n",
        "a) Drop out Method\n",
        "\n",
        "b) Data Augmentation\n",
        "\n",
        "c) Data Augmentation and drop out method.\n",
        "\n",
        "![1.jpeg](data:image/jpeg;base64,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)\n",
        "\n",
        "**Observations**:\n",
        "\n",
        "• Based on the performance metrics of the models that combine the unregularized model with three performance improvement strategies, we can infer from the values in the above table that the model that incorporates both the dropout technique and data augmentation performs well.\n",
        "• To regularize the model, I utilized the best-performing method—data augmentation and dropout—for the remaining training samples.\n",
        "\n",
        "\n",
        "2. Increase your training sample size. You may pick any amount. Keep the validation and test samples the same as above. Optimize your network (again training from scratch). What performance did you achieve?**\n",
        "\n",
        "• For this model I have increased the training sample size to 5000.\n",
        "\n",
        "![2.jpeg](data:image/jpeg;base64,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)\n",
        "\n",
        "Observations:\n",
        "\n",
        "•For regularized model it is observed that the loss: 0.3669 - accuracy: 0.848.\n",
        "\n",
        "• In contrast to the unregularized model regularized model seems to have a bit higher accuracy.\n",
        "\n",
        "• In comparison to the previous model the accuracy seems to be improved while the loss is slightly reduced.\n",
        "\n",
        "3.Now change your training sample so that you achieve better performance than those from Steps1 and 2. This sample size may be larger, or smaller than those in the previous steps. The objective is to find the ideal training sample size to get best prediction results?\n",
        "\n",
        "• For this model,I have increased sample size to\n",
        "\n",
        "![3.jpeg](data:image/jpeg;base64,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)\n",
        "\n",
        "Observations:\n",
        "\n",
        "From the above table,\n",
        "\n",
        "• For regularized model it is observed that the loss: 0.22 - accuracy: 0.912\n",
        "\n",
        "• In comparison with the unregularized model, this model is better.\n",
        "\n",
        "Below is the chart that describes the comparison of test and validation accuracies for the different training samples size.\n",
        "\n",
        "![4.jpeg](data:image/jpeg;base64,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)\n",
        "\n",
        "**Observations**:\n",
        "\n",
        "• There is a correlation between test loss and training sample size, which shows that test loss decreases over time and the test accuracy increases from 86% to 92.2%, which shows a better improvement over time.\n",
        "\n",
        "• Therefore, we can say that the performance of the model increases as the number of training samples increases.\n",
        "\n",
        "**4.Repeat Steps 1-3, but now using a pretrained network. The sample sizes you use in Steps 2 and 3,for the pretrained network may be the same or different from those using the network where you trained from scratch. Again, use any and all optimization techniques to get best performance.**\n",
        "\n",
        "![5.jpeg](data:image/jpeg;base64,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)\n",
        "\n",
        "**Observations:**\n",
        "\n",
        "We can observe from the data in the above table that when the training sample size rises, both the testing and validation accuracy tend to get better. As sample size grows, we observe a stronger improvement when test loss is taken into account.\n",
        "\n",
        "**Recommendations**:\n",
        "\n",
        "• Convolutional network-based machine learning models are the most successful in computer vision applications.\n",
        "\n",
        "• When starting from scratch and training from a relatively little dataset, the outcomes can still be respectable.\n",
        "\n",
        "• Overfitting is the fundamental issue with short datasets. Preventing overfitting in picture data can be effectively achieved by data augmentation techniques.\n",
        "\n",
        "• Model performance rises as the amount of the training sample grows.\n",
        "\n",
        "• We can improve the model's performance even further by fine-tuning the previously trained model.\n",
        "\n"
      ],
      "metadata": {
        "id": "KfA6zHP9yd32"
      }
    }
  ]
}